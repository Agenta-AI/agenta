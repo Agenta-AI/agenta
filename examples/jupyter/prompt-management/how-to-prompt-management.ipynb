{
 "cells": [
  {
   "cell_type": "markdown",
   "id": "fe036c83",
   "metadata": {},
   "source": [
    "# A How-To Guide for Prompt Management with the SDK in Agenta\n",
    "\n",
    "This guide covers all prompt management operations using the Agenta SDK: creating variants, committing changes, deploying to environments, and fetching configurations.\n",
    "\n"
   ]
  },
  {
   "cell_type": "markdown",
   "id": "d96a3129",
   "metadata": {
    "vscode": {
     "languageId": "bat"
    }
   },
   "source": [
    "## Install dependencies"
   ]
  },
  {
   "cell_type": "code",
   "execution_count": null,
   "id": "35bbfebe",
   "metadata": {},
   "outputs": [
    {
     "name": "stdout",
     "output_type": "stream",
     "text": [
      "Requirement already satisfied: agenta in /home/mahmoud/code/agenta_cloud/.venv/lib/python3.12/site-packages (0.51.6)\n",
      "Requirement already satisfied: decorator<6.0.0,>=5.2.1 in /home/mahmoud/code/agenta_cloud/.venv/lib/python3.12/site-packages (from agenta) (5.2.1)\n",
      "Requirement already satisfied: fastapi<0.117.0,>=0.116.0 in /home/mahmoud/code/agenta_cloud/.venv/lib/python3.12/site-packages (from agenta) (0.116.1)\n",
      "Requirement already satisfied: h11>=0.16.0 in /home/mahmoud/code/agenta_cloud/.venv/lib/python3.12/site-packages (from agenta) (0.16.0)\n",
      "Requirement already satisfied: httpx>=0.28.0 in /home/mahmoud/code/agenta_cloud/.venv/lib/python3.12/site-packages (from agenta) (0.28.1)\n",
      "Requirement already satisfied: huggingface-hub<0.31.0 in /home/mahmoud/code/agenta_cloud/.venv/lib/python3.12/site-packages (from agenta) (0.30.2)\n",
      "Requirement already satisfied: importlib-metadata<9.0,>=8.0.0 in /home/mahmoud/code/agenta_cloud/.venv/lib/python3.12/site-packages (from agenta) (8.7.0)\n",
      "Requirement already satisfied: jinja2<4.0.0,>=3.1.6 in /home/mahmoud/code/agenta_cloud/.venv/lib/python3.12/site-packages (from agenta) (3.1.6)\n",
      "Requirement already satisfied: litellm==1.76.0 in /home/mahmoud/code/agenta_cloud/.venv/lib/python3.12/site-packages (from agenta) (1.76.0)\n",
      "Requirement already satisfied: openai>=1.100.0 in /home/mahmoud/code/agenta_cloud/.venv/lib/python3.12/site-packages (from agenta) (1.106.1)\n",
      "Requirement already satisfied: opentelemetry-api<2.0.0,>=1.27.0 in /home/mahmoud/code/agenta_cloud/.venv/lib/python3.12/site-packages (from agenta) (1.36.0)\n",
      "Requirement already satisfied: opentelemetry-exporter-otlp-proto-http<2.0.0,>=1.27.0 in /home/mahmoud/code/agenta_cloud/.venv/lib/python3.12/site-packages (from agenta) (1.36.0)\n",
      "Requirement already satisfied: opentelemetry-instrumentation>=0.56b0 in /home/mahmoud/code/agenta_cloud/.venv/lib/python3.12/site-packages (from agenta) (0.57b0)\n",
      "Requirement already satisfied: opentelemetry-sdk<2.0.0,>=1.27.0 in /home/mahmoud/code/agenta_cloud/.venv/lib/python3.12/site-packages (from agenta) (1.36.0)\n",
      "Requirement already satisfied: pydantic>=2 in /home/mahmoud/code/agenta_cloud/.venv/lib/python3.12/site-packages (from agenta) (2.11.7)\n",
      "Requirement already satisfied: python-dotenv<2.0.0,>=1.0.0 in /home/mahmoud/code/agenta_cloud/.venv/lib/python3.12/site-packages (from agenta) (1.1.1)\n",
      "Requirement already satisfied: pyyaml<7.0.0,>=6.0.2 in /home/mahmoud/code/agenta_cloud/.venv/lib/python3.12/site-packages (from agenta) (6.0.2)\n",
      "Requirement already satisfied: starlette<0.48.0,>=0.47.0 in /home/mahmoud/code/agenta_cloud/.venv/lib/python3.12/site-packages (from agenta) (0.47.3)\n",
      "Requirement already satisfied: structlog<26.0.0,>=25.2.0 in /home/mahmoud/code/agenta_cloud/.venv/lib/python3.12/site-packages (from agenta) (25.4.0)\n",
      "Requirement already satisfied: toml<0.11.0,>=0.10.2 in /home/mahmoud/code/agenta_cloud/.venv/lib/python3.12/site-packages (from agenta) (0.10.2)\n",
      "Requirement already satisfied: aiohttp>=3.10 in /home/mahmoud/code/agenta_cloud/.venv/lib/python3.12/site-packages (from litellm==1.76.0->agenta) (3.12.15)\n",
      "Requirement already satisfied: click in /home/mahmoud/code/agenta_cloud/.venv/lib/python3.12/site-packages (from litellm==1.76.0->agenta) (8.2.1)\n",
      "Requirement already satisfied: jsonschema<5.0.0,>=4.22.0 in /home/mahmoud/code/agenta_cloud/.venv/lib/python3.12/site-packages (from litellm==1.76.0->agenta) (4.25.1)\n",
      "Requirement already satisfied: tiktoken>=0.7.0 in /home/mahmoud/code/agenta_cloud/.venv/lib/python3.12/site-packages (from litellm==1.76.0->agenta) (0.11.0)\n",
      "Requirement already satisfied: tokenizers in /home/mahmoud/code/agenta_cloud/.venv/lib/python3.12/site-packages (from litellm==1.76.0->agenta) (0.22.0)\n",
      "Requirement already satisfied: typing-extensions>=4.8.0 in /home/mahmoud/code/agenta_cloud/.venv/lib/python3.12/site-packages (from fastapi<0.117.0,>=0.116.0->agenta) (4.15.0)\n",
      "Requirement already satisfied: filelock in /home/mahmoud/code/agenta_cloud/.venv/lib/python3.12/site-packages (from huggingface-hub<0.31.0->agenta) (3.19.1)\n",
      "Requirement already satisfied: fsspec>=2023.5.0 in /home/mahmoud/code/agenta_cloud/.venv/lib/python3.12/site-packages (from huggingface-hub<0.31.0->agenta) (2025.7.0)\n",
      "Requirement already satisfied: packaging>=20.9 in /home/mahmoud/code/agenta_cloud/.venv/lib/python3.12/site-packages (from huggingface-hub<0.31.0->agenta) (25.0)\n",
      "Requirement already satisfied: requests in /home/mahmoud/code/agenta_cloud/.venv/lib/python3.12/site-packages (from huggingface-hub<0.31.0->agenta) (2.32.5)\n",
      "Requirement already satisfied: tqdm>=4.42.1 in /home/mahmoud/code/agenta_cloud/.venv/lib/python3.12/site-packages (from huggingface-hub<0.31.0->agenta) (4.67.1)\n",
      "Requirement already satisfied: zipp>=3.20 in /home/mahmoud/code/agenta_cloud/.venv/lib/python3.12/site-packages (from importlib-metadata<9.0,>=8.0.0->agenta) (3.23.0)\n",
      "Requirement already satisfied: MarkupSafe>=2.0 in /home/mahmoud/code/agenta_cloud/.venv/lib/python3.12/site-packages (from jinja2<4.0.0,>=3.1.6->agenta) (3.0.2)\n",
      "Requirement already satisfied: attrs>=22.2.0 in /home/mahmoud/code/agenta_cloud/.venv/lib/python3.12/site-packages (from jsonschema<5.0.0,>=4.22.0->litellm==1.76.0->agenta) (25.3.0)\n",
      "Requirement already satisfied: jsonschema-specifications>=2023.03.6 in /home/mahmoud/code/agenta_cloud/.venv/lib/python3.12/site-packages (from jsonschema<5.0.0,>=4.22.0->litellm==1.76.0->agenta) (2025.4.1)\n",
      "Requirement already satisfied: referencing>=0.28.4 in /home/mahmoud/code/agenta_cloud/.venv/lib/python3.12/site-packages (from jsonschema<5.0.0,>=4.22.0->litellm==1.76.0->agenta) (0.36.2)\n",
      "Requirement already satisfied: rpds-py>=0.7.1 in /home/mahmoud/code/agenta_cloud/.venv/lib/python3.12/site-packages (from jsonschema<5.0.0,>=4.22.0->litellm==1.76.0->agenta) (0.27.1)\n",
      "Requirement already satisfied: googleapis-common-protos~=1.52 in /home/mahmoud/code/agenta_cloud/.venv/lib/python3.12/site-packages (from opentelemetry-exporter-otlp-proto-http<2.0.0,>=1.27.0->agenta) (1.70.0)\n",
      "Requirement already satisfied: opentelemetry-exporter-otlp-proto-common==1.36.0 in /home/mahmoud/code/agenta_cloud/.venv/lib/python3.12/site-packages (from opentelemetry-exporter-otlp-proto-http<2.0.0,>=1.27.0->agenta) (1.36.0)\n",
      "Requirement already satisfied: opentelemetry-proto==1.36.0 in /home/mahmoud/code/agenta_cloud/.venv/lib/python3.12/site-packages (from opentelemetry-exporter-otlp-proto-http<2.0.0,>=1.27.0->agenta) (1.36.0)\n",
      "Requirement already satisfied: protobuf<7.0,>=5.0 in /home/mahmoud/code/agenta_cloud/.venv/lib/python3.12/site-packages (from opentelemetry-proto==1.36.0->opentelemetry-exporter-otlp-proto-http<2.0.0,>=1.27.0->agenta) (6.32.0)\n",
      "Requirement already satisfied: opentelemetry-semantic-conventions==0.57b0 in /home/mahmoud/code/agenta_cloud/.venv/lib/python3.12/site-packages (from opentelemetry-sdk<2.0.0,>=1.27.0->agenta) (0.57b0)\n",
      "Requirement already satisfied: annotated-types>=0.6.0 in /home/mahmoud/code/agenta_cloud/.venv/lib/python3.12/site-packages (from pydantic>=2->agenta) (0.7.0)\n",
      "Requirement already satisfied: pydantic-core==2.33.2 in /home/mahmoud/code/agenta_cloud/.venv/lib/python3.12/site-packages (from pydantic>=2->agenta) (2.33.2)\n",
      "Requirement already satisfied: typing-inspection>=0.4.0 in /home/mahmoud/code/agenta_cloud/.venv/lib/python3.12/site-packages (from pydantic>=2->agenta) (0.4.1)\n",
      "Requirement already satisfied: charset_normalizer<4,>=2 in /home/mahmoud/code/agenta_cloud/.venv/lib/python3.12/site-packages (from requests->huggingface-hub<0.31.0->agenta) (3.4.3)\n",
      "Requirement already satisfied: idna<4,>=2.5 in /home/mahmoud/code/agenta_cloud/.venv/lib/python3.12/site-packages (from requests->huggingface-hub<0.31.0->agenta) (3.10)\n",
      "Requirement already satisfied: urllib3<3,>=1.21.1 in /home/mahmoud/code/agenta_cloud/.venv/lib/python3.12/site-packages (from requests->huggingface-hub<0.31.0->agenta) (2.5.0)\n",
      "Requirement already satisfied: certifi>=2017.4.17 in /home/mahmoud/code/agenta_cloud/.venv/lib/python3.12/site-packages (from requests->huggingface-hub<0.31.0->agenta) (2025.8.3)\n",
      "Requirement already satisfied: anyio<5,>=3.6.2 in /home/mahmoud/code/agenta_cloud/.venv/lib/python3.12/site-packages (from starlette<0.48.0,>=0.47.0->agenta) (4.10.0)\n",
      "Requirement already satisfied: sniffio>=1.1 in /home/mahmoud/code/agenta_cloud/.venv/lib/python3.12/site-packages (from anyio<5,>=3.6.2->starlette<0.48.0,>=0.47.0->agenta) (1.3.1)\n",
      "Requirement already satisfied: aiohappyeyeballs>=2.5.0 in /home/mahmoud/code/agenta_cloud/.venv/lib/python3.12/site-packages (from aiohttp>=3.10->litellm==1.76.0->agenta) (2.6.1)\n",
      "Requirement already satisfied: aiosignal>=1.4.0 in /home/mahmoud/code/agenta_cloud/.venv/lib/python3.12/site-packages (from aiohttp>=3.10->litellm==1.76.0->agenta) (1.4.0)\n",
      "Requirement already satisfied: frozenlist>=1.1.1 in /home/mahmoud/code/agenta_cloud/.venv/lib/python3.12/site-packages (from aiohttp>=3.10->litellm==1.76.0->agenta) (1.7.0)\n",
      "Requirement already satisfied: multidict<7.0,>=4.5 in /home/mahmoud/code/agenta_cloud/.venv/lib/python3.12/site-packages (from aiohttp>=3.10->litellm==1.76.0->agenta) (6.6.4)\n",
      "Requirement already satisfied: propcache>=0.2.0 in /home/mahmoud/code/agenta_cloud/.venv/lib/python3.12/site-packages (from aiohttp>=3.10->litellm==1.76.0->agenta) (0.3.2)\n",
      "Requirement already satisfied: yarl<2.0,>=1.17.0 in /home/mahmoud/code/agenta_cloud/.venv/lib/python3.12/site-packages (from aiohttp>=3.10->litellm==1.76.0->agenta) (1.20.1)\n",
      "Requirement already satisfied: httpcore==1.* in /home/mahmoud/code/agenta_cloud/.venv/lib/python3.12/site-packages (from httpx>=0.28.0->agenta) (1.0.9)\n",
      "Requirement already satisfied: distro<2,>=1.7.0 in /home/mahmoud/code/agenta_cloud/.venv/lib/python3.12/site-packages (from openai>=1.100.0->agenta) (1.9.0)\n",
      "Requirement already satisfied: jiter<1,>=0.4.0 in /home/mahmoud/code/agenta_cloud/.venv/lib/python3.12/site-packages (from openai>=1.100.0->agenta) (0.10.0)\n",
      "Requirement already satisfied: wrapt<2.0.0,>=1.0.0 in /home/mahmoud/code/agenta_cloud/.venv/lib/python3.12/site-packages (from opentelemetry-instrumentation>=0.56b0->agenta) (1.17.3)\n",
      "Requirement already satisfied: regex>=2022.1.18 in /home/mahmoud/code/agenta_cloud/.venv/lib/python3.12/site-packages (from tiktoken>=0.7.0->litellm==1.76.0->agenta) (2025.9.1)\n",
      "Note: you may need to restart the kernel to use updated packages.\n"
     ]
    }
   ],
   "source": [
    "pip install -U agenta"
   ]
  },
  {
   "cell_type": "markdown",
   "id": "09579f66",
   "metadata": {},
   "source": [
    "## Setup"
   ]
  },
  {
   "cell_type": "code",
   "execution_count": null,
   "id": "02fa644e",
   "metadata": {},
   "outputs": [],
   "source": [
    "import os\n",
    "\n",
    "os.environ[\"AGENTA_API_KEY\"] = \"\"\n",
    "os.environ[\"AGENTA_HOST\"] = \"http://cloud.agenta.ai/\"\n"
   ]
  },
  {
   "cell_type": "code",
   "execution_count": 16,
   "id": "e43db2b5",
   "metadata": {},
   "outputs": [
    {
     "name": "stdout",
     "output_type": "stream",
     "text": [
      "2025-09-11T13:55:47.580Z \u001b[38;5;70m[INFO.]\u001b[0m Agenta - SDK version: 0.51.6 \u001b[38;5;245m[agenta.sdk.agenta_init]\u001b[0m \n",
      "2025-09-11T13:55:47.582Z \u001b[38;5;70m[INFO.]\u001b[0m Agenta - Host: http://144.76.237.122 \u001b[38;5;245m[agenta.sdk.agenta_init]\u001b[0m \n",
      "2025-09-11T13:55:47.583Z \u001b[38;5;70m[INFO.]\u001b[0m Agenta - OLTP URL: https://http://144.76.237.122/api/otlp/v1/traces \u001b[38;5;245m[agenta.sdk.tracing.tracing]\u001b[0m \n"
     ]
    },
    {
     "name": "stderr",
     "output_type": "stream",
     "text": [
      "Overriding of current TracerProvider is not allowed\n"
     ]
    }
   ],
   "source": [
    "import agenta as ag\n",
    "from getpass import getpass\n",
    "\n",
    "# Get API key from environment or prompt user\n",
    "api_key = os.getenv(\"AGENTA_API_KEY\")\n",
    "if not api_key:\n",
    "    os.environ[\"AGENTA_API_KEY\"] = getpass(\"Enter your Agenta API key: \")\n",
    "\n",
    "\n",
    "# Initialize the Agenta client\n",
    "ag.init()\n"
   ]
  },
  {
   "cell_type": "markdown",
   "id": "564c90d6",
   "metadata": {},
   "source": [
    "## Create new prompts"
   ]
  },
  {
   "cell_type": "code",
   "execution_count": 36,
   "id": "05786812",
   "metadata": {},
   "outputs": [],
   "source": [
    "\n",
    "from agenta.sdk.types import PromptTemplate, Message, ModelConfig\n",
    "from pydantic import BaseModel\n",
    "\n",
    "# Creates an empty application\n",
    "app = ag.AppManager.create(\n",
    "    app_slug=\"my-completion\",\n",
    "    template_key=\"SERVICE:completion\", # we define here the app type\n",
    "    # template_key=\"SERVICE:chat\" # chat prompts\n",
    "    # template_key=\"CUSTOM\" # custom configuration (schema-less, however unless you provide a URI, you can only use the registry but not the playground)\n",
    ")\n",
    "\n",
    "# Define your configuration model it should alway be of this format for completion and chat apps\n",
    "class Config(BaseModel):\n",
    "    prompt: PromptTemplate\n",
    "\n",
    "# Create the initial configuration\n",
    "config = Config(\n",
    "    prompt=PromptTemplate(\n",
    "        messages=[\n",
    "            Message(role=\"system\", content=\"You are an assistant that provides concise answers\"),\n",
    "            Message(role=\"user\", content=\"Explain {{topic}} in simple terms\"),\n",
    "        ],\n",
    "        llm_config=ModelConfig(\n",
    "            model=\"gpt-3.5-turbo\",\n",
    "            max_tokens=150,\n",
    "            temperature=0.7,\n",
    "            top_p=1.0,\n",
    "            frequency_penalty=0.0,\n",
    "            presence_penalty=0.0,\n",
    "        ),\n",
    "    )\n",
    ")\n",
    "\n",
    "# Create a new variant with the first revision \n",
    "variant = ag.VariantManager.create(\n",
    "    parameters=config.model_dump(),\n",
    "    app_slug=\"my-completion\",\n",
    "    variant_slug=\"default\",\n",
    ")\n"
   ]
  },
  {
   "cell_type": "code",
   "execution_count": 37,
   "id": "25ae5452",
   "metadata": {},
   "outputs": [
    {
     "name": "stdout",
     "output_type": "stream",
     "text": [
      "{\n",
      "    \"app_id\": \"0199396b-aba7-7451-8db4-6fb5e4a1c8d2\",\n",
      "    \"app_slug\": \"my-completion\",\n",
      "    \"variant_id\": \"0199396b-ac32-7783-a385-09d0a1d084af\",\n",
      "    \"variant_slug\": \"default\",\n",
      "    \"variant_version\": 1,\n",
      "    \"environment_id\": null,\n",
      "    \"environment_slug\": null,\n",
      "    \"environment_version\": null,\n",
      "    \"committed_at\": \"2025-09-11T15:36:21.728674+00:00\",\n",
      "    \"committed_by\": \"mahmoud@agenta.ai\",\n",
      "    \"committed_by_id\": \"0198eb1b-012a-7891-955e-15ef49443ece\",\n",
      "    \"deployed_at\": null,\n",
      "    \"deployed_by\": null,\n",
      "    \"deployed_by_id\": null,\n",
      "    \"params\": {\n",
      "        \"prompt\": {\n",
      "            \"messages\": [\n",
      "                {\n",
      "                    \"role\": \"system\",\n",
      "                    \"content\": \"You are an assistant that provides concise answers\",\n",
      "                    \"name\": null,\n",
      "                    \"tool_calls\": null,\n",
      "                    \"tool_call_id\": null\n",
      "                },\n",
      "                {\n",
      "                    \"role\": \"user\",\n",
      "                    \"content\": \"Explain {{topic}} in simple terms\",\n",
      "                    \"name\": null,\n",
      "                    \"tool_calls\": null,\n",
      "                    \"tool_call_id\": null\n",
      "                }\n",
      "            ],\n",
      "            \"system_prompt\": null,\n",
      "            \"user_prompt\": null,\n",
      "            \"template_format\": \"curly\",\n",
      "            \"input_keys\": null,\n",
      "            \"llm_config\": {\n",
      "                \"model\": \"gpt-3.5-turbo\",\n",
      "                \"temperature\": 0.7,\n",
      "                \"max_tokens\": 150,\n",
      "                \"top_p\": 1.0,\n",
      "                \"frequency_penalty\": 0.0,\n",
      "                \"presence_penalty\": 0.0,\n",
      "                \"response_format\": null,\n",
      "                \"stream\": null,\n",
      "                \"tools\": null,\n",
      "                \"tool_choice\": null\n",
      "            }\n",
      "        }\n",
      "    }\n",
      "}\n"
     ]
    }
   ],
   "source": [
    "\n",
    "print(variant)\n"
   ]
  },
  {
   "cell_type": "markdown",
   "id": "d36a543a",
   "metadata": {},
   "source": [
    "## Creating a new revision"
   ]
  },
  {
   "cell_type": "code",
   "execution_count": 38,
   "id": "ff9382d2",
   "metadata": {},
   "outputs": [
    {
     "name": "stdout",
     "output_type": "stream",
     "text": [
      "{\n",
      "    \"app_id\": \"0199396b-aba7-7451-8db4-6fb5e4a1c8d2\",\n",
      "    \"app_slug\": \"my-completion\",\n",
      "    \"variant_id\": \"0199396b-cbea-7ca2-bc6e-2920316958c3\",\n",
      "    \"variant_slug\": \"default\",\n",
      "    \"variant_version\": 2,\n",
      "    \"environment_id\": null,\n",
      "    \"environment_slug\": null,\n",
      "    \"environment_version\": null,\n",
      "    \"committed_at\": \"2025-09-11T15:36:21.728674+00:00\",\n",
      "    \"committed_by\": \"mahmoud@agenta.ai\",\n",
      "    \"committed_by_id\": \"0198eb1b-012a-7891-955e-15ef49443ece\",\n",
      "    \"deployed_at\": null,\n",
      "    \"deployed_by\": null,\n",
      "    \"deployed_by_id\": null,\n",
      "    \"params\": {\n",
      "        \"prompt\": {\n",
      "            \"messages\": [\n",
      "                {\n",
      "                    \"role\": \"system\",\n",
      "                    \"content\": \"You are an assistant that provides VERY concise answers\",\n",
      "                    \"name\": null,\n",
      "                    \"tool_calls\": null,\n",
      "                    \"tool_call_id\": null\n",
      "                },\n",
      "                {\n",
      "                    \"role\": \"user\",\n",
      "                    \"content\": \"Explain {{topic}} in simple terms\",\n",
      "                    \"name\": null,\n",
      "                    \"tool_calls\": null,\n",
      "                    \"tool_call_id\": null\n",
      "                }\n",
      "            ],\n",
      "            \"system_prompt\": null,\n",
      "            \"user_prompt\": null,\n",
      "            \"template_format\": \"curly\",\n",
      "            \"input_keys\": null,\n",
      "            \"llm_config\": {\n",
      "                \"model\": \"anthropic/claude-3-5-sonnet-20240620\",\n",
      "                \"temperature\": 0.7,\n",
      "                \"max_tokens\": 150,\n",
      "                \"top_p\": 1.0,\n",
      "                \"frequency_penalty\": 0.0,\n",
      "                \"presence_penalty\": 0.0,\n",
      "                \"response_format\": null,\n",
      "                \"stream\": null,\n",
      "                \"tools\": null,\n",
      "                \"tool_choice\": null\n",
      "            }\n",
      "        }\n",
      "    }\n",
      "}\n"
     ]
    }
   ],
   "source": [
    "config2=Config(\n",
    "    prompt=PromptTemplate(\n",
    "        messages=[\n",
    "            Message(role=\"system\", content=\"You are an assistant that provides VERY concise answers\"),\n",
    "            Message(role=\"user\", content=\"Explain {{topic}} in simple terms\"),\n",
    "        ],\n",
    "        llm_config=ModelConfig(\n",
    "            model=\"anthropic/claude-3-5-sonnet-20240620\",\n",
    "            max_tokens=150,\n",
    "            temperature=0.7,\n",
    "            top_p=1.0,\n",
    "            frequency_penalty=0.0,\n",
    "            presence_penalty=0.0,\n",
    "        ),\n",
    "    )\n",
    ")\n",
    "\n",
    "\n",
    "# Commit the new version\n",
    "variant = ag.VariantManager.commit(\n",
    "    parameters=config2.model_dump(),\n",
    "    app_slug=\"my-completion\",\n",
    "    variant_slug=\"default\",\n",
    ")\n",
    "\n",
    "print(variant)"
   ]
  },
  {
   "cell_type": "markdown",
   "id": "79553cec",
   "metadata": {},
   "source": [
    "## Deploying to an environment"
   ]
  },
  {
   "cell_type": "code",
   "execution_count": 43,
   "id": "5fbd3d75",
   "metadata": {},
   "outputs": [
    {
     "name": "stdout",
     "output_type": "stream",
     "text": [
      "Deployed to staging\n"
     ]
    }
   ],
   "source": [
    "deployment = ag.DeploymentManager.deploy(\n",
    "    app_slug=\"my-completion\",\n",
    "    variant_slug=\"default\",\n",
    "    variant_version=None,  # Deploys latest version if not specified\n",
    "    environment_slug=\"staging\"  # Options: development, staging, production\n",
    ")\n",
    "\n",
    "print(f\"Deployed to {deployment.environment_slug}\")\n",
    "\n",
    "\n"
   ]
  },
  {
   "cell_type": "markdown",
   "id": "7fbae284",
   "metadata": {},
   "source": [
    "## Fetching configurations"
   ]
  },
  {
   "cell_type": "code",
   "execution_count": 45,
   "id": "6ab6bab6",
   "metadata": {},
   "outputs": [
    {
     "name": "stdout",
     "output_type": "stream",
     "text": [
      "Fetched configuration for variant default version 2:\n",
      "{'prompt': {'messages': [{'role': 'system', 'content': 'You are an assistant that provides VERY concise answers', 'name': None, 'tool_calls': None, 'tool_call_id': None}, {'role': 'user', 'content': 'Explain {{topic}} in simple terms', 'name': None, 'tool_calls': None, 'tool_call_id': None}], 'system_prompt': None, 'user_prompt': None, 'template_format': 'curly', 'input_keys': None, 'llm_config': {'model': 'anthropic/claude-3-5-sonnet-20240620', 'temperature': 0.7, 'max_tokens': 150, 'top_p': 1.0, 'frequency_penalty': 0.0, 'presence_penalty': 0.0, 'response_format': None, 'stream': None, 'tools': None, 'tool_choice': None}}}\n",
      "Fetched configuration for staging environment version 1:\n",
      "{'prompt': {'messages': [{'role': 'system', 'content': 'You are an assistant that provides VERY concise answers', 'name': None, 'tool_calls': None, 'tool_call_id': None}, {'role': 'user', 'content': 'Explain {{topic}} in simple terms', 'name': None, 'tool_calls': None, 'tool_call_id': None}], 'system_prompt': None, 'user_prompt': None, 'template_format': 'curly', 'input_keys': None, 'llm_config': {'model': 'anthropic/claude-3-5-sonnet-20240620', 'temperature': 0.7, 'max_tokens': 150, 'top_p': 1.0, 'frequency_penalty': 0.0, 'presence_penalty': 0.0, 'response_format': None, 'stream': None, 'tools': None, 'tool_choice': None}}}\n"
     ]
    }
   ],
   "source": [
    "# Fetching by variant reference\n",
    "config = ag.ConfigManager.get_from_registry(\n",
    "    app_slug=\"my-completion\",\n",
    "    variant_slug=\"default\",\n",
    "    variant_version=2  # Optional: fetches latest if not provided\n",
    ")\n",
    "print(\"Fetched configuration for variant default version 2:\")\n",
    "print(config)\n",
    "\n",
    "# Fetching by environment reference (from staging)\n",
    "config = ag.ConfigManager.get_from_registry(\n",
    "    app_slug=\"my-completion\",\n",
    "    environment_slug=\"staging\",\n",
    "    environment_version=1  # Optional: If not provided, fetches the latest version\n",
    ")\n",
    "\n",
    "print(f\"Fetched configuration for staging environment version 1:\")\n",
    "print(config)\n",
    "\n",
    "\n"
   ]
  },
  {
   "cell_type": "markdown",
   "id": "4e298bae",
   "metadata": {},
   "source": [
    "## Listing all variants"
   ]
  },
  {
   "cell_type": "code",
   "execution_count": 46,
   "id": "792e7804",
   "metadata": {},
   "outputs": [
    {
     "name": "stdout",
     "output_type": "stream",
     "text": [
      "[{\n",
      "    \"app_id\": \"0199396b-aba7-7451-8db4-6fb5e4a1c8d2\",\n",
      "    \"app_slug\": \"my-completion\",\n",
      "    \"variant_id\": \"0199396b-cbea-7ca2-bc6e-2920316958c3\",\n",
      "    \"variant_slug\": \"default\",\n",
      "    \"variant_version\": 2,\n",
      "    \"environment_id\": null,\n",
      "    \"environment_slug\": null,\n",
      "    \"environment_version\": null,\n",
      "    \"committed_at\": \"2025-09-11T15:36:29.930593+00:00\",\n",
      "    \"committed_by\": \"mahmoud@agenta.ai\",\n",
      "    \"committed_by_id\": \"0198eb1b-012a-7891-955e-15ef49443ece\",\n",
      "    \"deployed_at\": null,\n",
      "    \"deployed_by\": null,\n",
      "    \"deployed_by_id\": null,\n",
      "    \"params\": {\n",
      "        \"prompt\": {\n",
      "            \"messages\": [\n",
      "                {\n",
      "                    \"role\": \"system\",\n",
      "                    \"content\": \"You are an assistant that provides VERY concise answers\",\n",
      "                    \"name\": null,\n",
      "                    \"tool_calls\": null,\n",
      "                    \"tool_call_id\": null\n",
      "                },\n",
      "                {\n",
      "                    \"role\": \"user\",\n",
      "                    \"content\": \"Explain {{topic}} in simple terms\",\n",
      "                    \"name\": null,\n",
      "                    \"tool_calls\": null,\n",
      "                    \"tool_call_id\": null\n",
      "                }\n",
      "            ],\n",
      "            \"system_prompt\": null,\n",
      "            \"user_prompt\": null,\n",
      "            \"template_format\": \"curly\",\n",
      "            \"input_keys\": null,\n",
      "            \"llm_config\": {\n",
      "                \"model\": \"anthropic/claude-3-5-sonnet-20240620\",\n",
      "                \"temperature\": 0.7,\n",
      "                \"max_tokens\": 150,\n",
      "                \"top_p\": 1.0,\n",
      "                \"frequency_penalty\": 0.0,\n",
      "                \"presence_penalty\": 0.0,\n",
      "                \"response_format\": null,\n",
      "                \"stream\": null,\n",
      "                \"tools\": null,\n",
      "                \"tool_choice\": null\n",
      "            }\n",
      "        }\n",
      "    }\n",
      "}]\n"
     ]
    }
   ],
   "source": [
    "variants = ag.VariantManager.list(\n",
    "    app_slug=\"my-completion\"\n",
    ")\n",
    "\n",
    "print(variants)\n",
    "\n"
   ]
  },
  {
   "cell_type": "markdown",
   "id": "23503c53",
   "metadata": {},
   "source": [
    "## Fetching variant history"
   ]
  },
  {
   "cell_type": "code",
   "execution_count": 47,
   "id": "9fcf9a8b",
   "metadata": {},
   "outputs": [
    {
     "name": "stdout",
     "output_type": "stream",
     "text": [
      "[{\n",
      "    \"app_id\": \"0199396b-aba7-7451-8db4-6fb5e4a1c8d2\",\n",
      "    \"app_slug\": \"my-completion\",\n",
      "    \"variant_id\": \"0199396b-abe0-74a1-9e4c-80779f36c9e5\",\n",
      "    \"variant_slug\": \"default\",\n",
      "    \"variant_version\": 2,\n",
      "    \"environment_id\": null,\n",
      "    \"environment_slug\": null,\n",
      "    \"environment_version\": null,\n",
      "    \"committed_at\": \"2025-09-11T15:36:21.733212+00:00\",\n",
      "    \"committed_by\": \"mahmoud@agenta.ai\",\n",
      "    \"committed_by_id\": \"0198eb1b-012a-7891-955e-15ef49443ece\",\n",
      "    \"deployed_at\": null,\n",
      "    \"deployed_by\": null,\n",
      "    \"deployed_by_id\": null,\n",
      "    \"params\": {}\n",
      "}, {\n",
      "    \"app_id\": \"0199396b-aba7-7451-8db4-6fb5e4a1c8d2\",\n",
      "    \"app_slug\": \"my-completion\",\n",
      "    \"variant_id\": \"0199396b-abe0-74a1-9e4c-80779f36c9e5\",\n",
      "    \"variant_slug\": \"default\",\n",
      "    \"variant_version\": 2,\n",
      "    \"environment_id\": null,\n",
      "    \"environment_slug\": null,\n",
      "    \"environment_version\": null,\n",
      "    \"committed_at\": \"2025-09-11T15:36:21.810617+00:00\",\n",
      "    \"committed_by\": \"mahmoud@agenta.ai\",\n",
      "    \"committed_by_id\": \"0198eb1b-012a-7891-955e-15ef49443ece\",\n",
      "    \"deployed_at\": null,\n",
      "    \"deployed_by\": null,\n",
      "    \"deployed_by_id\": null,\n",
      "    \"params\": {\n",
      "        \"prompt\": {\n",
      "            \"messages\": [\n",
      "                {\n",
      "                    \"role\": \"system\",\n",
      "                    \"content\": \"You are an assistant that provides concise answers\",\n",
      "                    \"name\": null,\n",
      "                    \"tool_calls\": null,\n",
      "                    \"tool_call_id\": null\n",
      "                },\n",
      "                {\n",
      "                    \"role\": \"user\",\n",
      "                    \"content\": \"Explain {{topic}} in simple terms\",\n",
      "                    \"name\": null,\n",
      "                    \"tool_calls\": null,\n",
      "                    \"tool_call_id\": null\n",
      "                }\n",
      "            ],\n",
      "            \"system_prompt\": null,\n",
      "            \"user_prompt\": null,\n",
      "            \"template_format\": \"curly\",\n",
      "            \"input_keys\": null,\n",
      "            \"llm_config\": {\n",
      "                \"model\": \"gpt-3.5-turbo\",\n",
      "                \"temperature\": 0.7,\n",
      "                \"max_tokens\": 150,\n",
      "                \"top_p\": 1.0,\n",
      "                \"frequency_penalty\": 0.0,\n",
      "                \"presence_penalty\": 0.0,\n",
      "                \"response_format\": null,\n",
      "                \"stream\": null,\n",
      "                \"tools\": null,\n",
      "                \"tool_choice\": null\n",
      "            }\n",
      "        }\n",
      "    }\n",
      "}, {\n",
      "    \"app_id\": \"0199396b-aba7-7451-8db4-6fb5e4a1c8d2\",\n",
      "    \"app_slug\": \"my-completion\",\n",
      "    \"variant_id\": \"0199396b-abe0-74a1-9e4c-80779f36c9e5\",\n",
      "    \"variant_slug\": \"default\",\n",
      "    \"variant_version\": 2,\n",
      "    \"environment_id\": null,\n",
      "    \"environment_slug\": null,\n",
      "    \"environment_version\": null,\n",
      "    \"committed_at\": \"2025-09-11T15:36:29.930593+00:00\",\n",
      "    \"committed_by\": \"mahmoud@agenta.ai\",\n",
      "    \"committed_by_id\": \"0198eb1b-012a-7891-955e-15ef49443ece\",\n",
      "    \"deployed_at\": null,\n",
      "    \"deployed_by\": null,\n",
      "    \"deployed_by_id\": null,\n",
      "    \"params\": {\n",
      "        \"prompt\": {\n",
      "            \"messages\": [\n",
      "                {\n",
      "                    \"role\": \"system\",\n",
      "                    \"content\": \"You are an assistant that provides VERY concise answers\",\n",
      "                    \"name\": null,\n",
      "                    \"tool_calls\": null,\n",
      "                    \"tool_call_id\": null\n",
      "                },\n",
      "                {\n",
      "                    \"role\": \"user\",\n",
      "                    \"content\": \"Explain {{topic}} in simple terms\",\n",
      "                    \"name\": null,\n",
      "                    \"tool_calls\": null,\n",
      "                    \"tool_call_id\": null\n",
      "                }\n",
      "            ],\n",
      "            \"system_prompt\": null,\n",
      "            \"user_prompt\": null,\n",
      "            \"template_format\": \"curly\",\n",
      "            \"input_keys\": null,\n",
      "            \"llm_config\": {\n",
      "                \"model\": \"anthropic/claude-3-5-sonnet-20240620\",\n",
      "                \"temperature\": 0.7,\n",
      "                \"max_tokens\": 150,\n",
      "                \"top_p\": 1.0,\n",
      "                \"frequency_penalty\": 0.0,\n",
      "                \"presence_penalty\": 0.0,\n",
      "                \"response_format\": null,\n",
      "                \"stream\": null,\n",
      "                \"tools\": null,\n",
      "                \"tool_choice\": null\n",
      "            }\n",
      "        }\n",
      "    }\n",
      "}]\n"
     ]
    }
   ],
   "source": [
    "versions = ag.VariantManager.history(\n",
    "    variant_slug=\"default\",\n",
    "    app_slug=\"my-completion\"\n",
    ")\n",
    "\n",
    "print(versions)\n",
    "\n"
   ]
  },
  {
   "cell_type": "markdown",
   "id": "e8f52205",
   "metadata": {},
   "source": [
    "## Deleting a variant"
   ]
  },
  {
   "cell_type": "code",
   "execution_count": 50,
   "id": "9d8d2e39",
   "metadata": {},
   "outputs": [
    {
     "data": {
      "text/plain": [
       "204"
      ]
     },
     "execution_count": 50,
     "metadata": {},
     "output_type": "execute_result"
    }
   ],
   "source": [
    "variant = ag.VariantManager.create(\n",
    "    parameters=config,\n",
    "    app_slug=\"my-completion\",\n",
    "    variant_slug=\"to-remove\",\n",
    ")\n",
    "\n",
    "ag.VariantManager.delete(\n",
    "    app_slug=\"my-completion\",\n",
    "    variant_slug=\"to-remove\"\n",
    ")\n",
    "\n"
   ]
  },
  {
   "cell_type": "markdown",
   "id": "efad781d",
   "metadata": {},
   "source": [
    "## Creating an app with a custom configuration (schema-less)"
   ]
  },
  {
   "cell_type": "code",
   "execution_count": 52,
   "id": "dfb8437e",
   "metadata": {},
   "outputs": [
    {
     "name": "stdout",
     "output_type": "stream",
     "text": [
      "{\n",
      "    \"app_id\": \"01993970-5fa6-7561-bd77-edb117ee6788\",\n",
      "    \"app_slug\": \"my-rag-config\",\n",
      "    \"variant_id\": \"01993970-6008-7ca3-abb8-d5bfdf798fc4\",\n",
      "    \"variant_slug\": \"default\",\n",
      "    \"variant_version\": 1,\n",
      "    \"environment_id\": null,\n",
      "    \"environment_slug\": null,\n",
      "    \"environment_version\": null,\n",
      "    \"committed_at\": \"2025-09-11T15:41:29.923484+00:00\",\n",
      "    \"committed_by\": \"mahmoud@agenta.ai\",\n",
      "    \"committed_by_id\": \"0198eb1b-012a-7891-955e-15ef49443ece\",\n",
      "    \"deployed_at\": null,\n",
      "    \"deployed_by\": null,\n",
      "    \"deployed_by_id\": null,\n",
      "    \"params\": {\n",
      "        \"rag-prompt\": \"You are a helpful assistant that can answer questions and help with tasks.\",\n",
      "        \"rag-chunk_size\": 100,\n",
      "        \"rag-chunk_overlap\": 20\n",
      "    }\n",
      "}\n"
     ]
    }
   ],
   "source": [
    "app = ag.AppManager.create(\n",
    "    app_slug=\"my-rag-config\",\n",
    "    template_key=\"CUSTOM\", # we define here the app type\n",
    ")\n",
    "\n",
    "rag_config = {\n",
    "    \"rag-prompt\": \"You are a helpful assistant that can answer questions and help with tasks.\",\n",
    "    \"rag-chunk_size\": 100,\n",
    "    \"rag-chunk_overlap\": 20,\n",
    "}\n",
    "variant = ag.VariantManager.create(\n",
    "    parameters=rag_config,\n",
    "    app_slug=\"my-rag-config\",\n",
    "    variant_slug=\"default\",\n",
    ")\n",
    "\n",
    "print(variant)\n"
   ]
  }
 ],
 "metadata": {
  "kernelspec": {
   "display_name": ".venv (3.12.3)",
   "language": "python",
   "name": "python3"
  },
  "language_info": {
   "codemirror_mode": {
    "name": "ipython",
    "version": 3
   },
   "file_extension": ".py",
   "mimetype": "text/x-python",
   "name": "python",
   "nbconvert_exporter": "python",
   "pygments_lexer": "ipython3",
   "version": "3.12.3"
  }
 },
 "nbformat": 4,
 "nbformat_minor": 5
}
