{
  "cells": [
    {
      "cell_type": "markdown",
      "metadata": {},
      "source": [
        "# Manage Prompts with SDK - Tutorial\n",
        "\n",
        "You can manage prompts easily through Agenta's web UI. But sometimes you might want to do things programmatically instead of using the interface.\n",
        "\n",
        "In this tutorial, we'll use the Agenta SDK to create a new prompt, commit changes, deploy them to production, then fetch their configuration and use it to call the LLM.\n",
        "\n",
        "## Tutorial Overview\n",
        "\n",
        "Before we begin, let's quickly review how Agenta versions prompts:\n",
        "\n",
        "Agenta follows a structure similar to **git** for prompt versioning. Instead of having one commit history, it uses **multiple branches (called variants)** where changes can be committed, and **environments** where these changes can be deployed (and used in your application).\n",
        "\n",
        "The workflow for deploying a change to production that we'll follow in this tutorial is:\n",
        "\n",
        "1. Create a new variant\n",
        "2. Commit a change to that variant\n",
        "3. Deploy that commit (variant/version) to the production environment\n",
        "4. Commit a new change to that variant\n",
        "5. Fetch the config from that environment\n"
      ]
    },
    {
      "cell_type": "markdown",
      "metadata": {},
      "source": [
        "## Install dependencies\n"
      ]
    },
    {
      "cell_type": "code",
      "execution_count": 1,
      "metadata": {},
      "outputs": [
        {
          "name": "stdout",
          "output_type": "stream",
          "text": [
            "Requirement already satisfied: agenta in /home/mahmoud/code/agenta_cloud/.venv/lib/python3.12/site-packages (0.51.6)\n",
            "Requirement already satisfied: openai in /home/mahmoud/code/agenta_cloud/.venv/lib/python3.12/site-packages (1.106.1)\n",
            "Collecting openai\n",
            "  Downloading openai-1.107.1-py3-none-any.whl.metadata (29 kB)\n",
            "Requirement already satisfied: decorator<6.0.0,>=5.2.1 in /home/mahmoud/code/agenta_cloud/.venv/lib/python3.12/site-packages (from agenta) (5.2.1)\n",
            "Requirement already satisfied: fastapi<0.117.0,>=0.116.0 in /home/mahmoud/code/agenta_cloud/.venv/lib/python3.12/site-packages (from agenta) (0.116.1)\n",
            "Requirement already satisfied: h11>=0.16.0 in /home/mahmoud/code/agenta_cloud/.venv/lib/python3.12/site-packages (from agenta) (0.16.0)\n",
            "Requirement already satisfied: httpx>=0.28.0 in /home/mahmoud/code/agenta_cloud/.venv/lib/python3.12/site-packages (from agenta) (0.28.1)\n",
            "Requirement already satisfied: huggingface-hub<0.31.0 in /home/mahmoud/code/agenta_cloud/.venv/lib/python3.12/site-packages (from agenta) (0.30.2)\n",
            "Requirement already satisfied: importlib-metadata<9.0,>=8.0.0 in /home/mahmoud/code/agenta_cloud/.venv/lib/python3.12/site-packages (from agenta) (8.7.0)\n",
            "Requirement already satisfied: jinja2<4.0.0,>=3.1.6 in /home/mahmoud/code/agenta_cloud/.venv/lib/python3.12/site-packages (from agenta) (3.1.6)\n",
            "Requirement already satisfied: litellm==1.76.0 in /home/mahmoud/code/agenta_cloud/.venv/lib/python3.12/site-packages (from agenta) (1.76.0)\n",
            "Requirement already satisfied: opentelemetry-api<2.0.0,>=1.27.0 in /home/mahmoud/code/agenta_cloud/.venv/lib/python3.12/site-packages (from agenta) (1.36.0)\n",
            "Requirement already satisfied: opentelemetry-exporter-otlp-proto-http<2.0.0,>=1.27.0 in /home/mahmoud/code/agenta_cloud/.venv/lib/python3.12/site-packages (from agenta) (1.36.0)\n",
            "Requirement already satisfied: opentelemetry-instrumentation>=0.56b0 in /home/mahmoud/code/agenta_cloud/.venv/lib/python3.12/site-packages (from agenta) (0.57b0)\n",
            "Requirement already satisfied: opentelemetry-sdk<2.0.0,>=1.27.0 in /home/mahmoud/code/agenta_cloud/.venv/lib/python3.12/site-packages (from agenta) (1.36.0)\n",
            "Requirement already satisfied: pydantic>=2 in /home/mahmoud/code/agenta_cloud/.venv/lib/python3.12/site-packages (from agenta) (2.11.7)\n",
            "Requirement already satisfied: python-dotenv<2.0.0,>=1.0.0 in /home/mahmoud/code/agenta_cloud/.venv/lib/python3.12/site-packages (from agenta) (1.1.1)\n",
            "Requirement already satisfied: pyyaml<7.0.0,>=6.0.2 in /home/mahmoud/code/agenta_cloud/.venv/lib/python3.12/site-packages (from agenta) (6.0.2)\n",
            "Requirement already satisfied: starlette<0.48.0,>=0.47.0 in /home/mahmoud/code/agenta_cloud/.venv/lib/python3.12/site-packages (from agenta) (0.47.3)\n",
            "Requirement already satisfied: structlog<26.0.0,>=25.2.0 in /home/mahmoud/code/agenta_cloud/.venv/lib/python3.12/site-packages (from agenta) (25.4.0)\n",
            "Requirement already satisfied: toml<0.11.0,>=0.10.2 in /home/mahmoud/code/agenta_cloud/.venv/lib/python3.12/site-packages (from agenta) (0.10.2)\n",
            "Requirement already satisfied: aiohttp>=3.10 in /home/mahmoud/code/agenta_cloud/.venv/lib/python3.12/site-packages (from litellm==1.76.0->agenta) (3.12.15)\n",
            "Requirement already satisfied: click in /home/mahmoud/code/agenta_cloud/.venv/lib/python3.12/site-packages (from litellm==1.76.0->agenta) (8.2.1)\n",
            "Requirement already satisfied: jsonschema<5.0.0,>=4.22.0 in /home/mahmoud/code/agenta_cloud/.venv/lib/python3.12/site-packages (from litellm==1.76.0->agenta) (4.25.1)\n",
            "Requirement already satisfied: tiktoken>=0.7.0 in /home/mahmoud/code/agenta_cloud/.venv/lib/python3.12/site-packages (from litellm==1.76.0->agenta) (0.11.0)\n",
            "Requirement already satisfied: tokenizers in /home/mahmoud/code/agenta_cloud/.venv/lib/python3.12/site-packages (from litellm==1.76.0->agenta) (0.22.0)\n",
            "Requirement already satisfied: typing-extensions>=4.8.0 in /home/mahmoud/code/agenta_cloud/.venv/lib/python3.12/site-packages (from fastapi<0.117.0,>=0.116.0->agenta) (4.15.0)\n",
            "Requirement already satisfied: filelock in /home/mahmoud/code/agenta_cloud/.venv/lib/python3.12/site-packages (from huggingface-hub<0.31.0->agenta) (3.19.1)\n",
            "Requirement already satisfied: fsspec>=2023.5.0 in /home/mahmoud/code/agenta_cloud/.venv/lib/python3.12/site-packages (from huggingface-hub<0.31.0->agenta) (2025.7.0)\n",
            "Requirement already satisfied: packaging>=20.9 in /home/mahmoud/code/agenta_cloud/.venv/lib/python3.12/site-packages (from huggingface-hub<0.31.0->agenta) (25.0)\n",
            "Requirement already satisfied: requests in /home/mahmoud/code/agenta_cloud/.venv/lib/python3.12/site-packages (from huggingface-hub<0.31.0->agenta) (2.32.5)\n",
            "Requirement already satisfied: tqdm>=4.42.1 in /home/mahmoud/code/agenta_cloud/.venv/lib/python3.12/site-packages (from huggingface-hub<0.31.0->agenta) (4.67.1)\n",
            "Requirement already satisfied: zipp>=3.20 in /home/mahmoud/code/agenta_cloud/.venv/lib/python3.12/site-packages (from importlib-metadata<9.0,>=8.0.0->agenta) (3.23.0)\n",
            "Requirement already satisfied: MarkupSafe>=2.0 in /home/mahmoud/code/agenta_cloud/.venv/lib/python3.12/site-packages (from jinja2<4.0.0,>=3.1.6->agenta) (3.0.2)\n",
            "Requirement already satisfied: attrs>=22.2.0 in /home/mahmoud/code/agenta_cloud/.venv/lib/python3.12/site-packages (from jsonschema<5.0.0,>=4.22.0->litellm==1.76.0->agenta) (25.3.0)\n",
            "Requirement already satisfied: jsonschema-specifications>=2023.03.6 in /home/mahmoud/code/agenta_cloud/.venv/lib/python3.12/site-packages (from jsonschema<5.0.0,>=4.22.0->litellm==1.76.0->agenta) (2025.4.1)\n",
            "Requirement already satisfied: referencing>=0.28.4 in /home/mahmoud/code/agenta_cloud/.venv/lib/python3.12/site-packages (from jsonschema<5.0.0,>=4.22.0->litellm==1.76.0->agenta) (0.36.2)\n",
            "Requirement already satisfied: rpds-py>=0.7.1 in /home/mahmoud/code/agenta_cloud/.venv/lib/python3.12/site-packages (from jsonschema<5.0.0,>=4.22.0->litellm==1.76.0->agenta) (0.27.1)\n",
            "Requirement already satisfied: googleapis-common-protos~=1.52 in /home/mahmoud/code/agenta_cloud/.venv/lib/python3.12/site-packages (from opentelemetry-exporter-otlp-proto-http<2.0.0,>=1.27.0->agenta) (1.70.0)\n",
            "Requirement already satisfied: opentelemetry-exporter-otlp-proto-common==1.36.0 in /home/mahmoud/code/agenta_cloud/.venv/lib/python3.12/site-packages (from opentelemetry-exporter-otlp-proto-http<2.0.0,>=1.27.0->agenta) (1.36.0)\n",
            "Requirement already satisfied: opentelemetry-proto==1.36.0 in /home/mahmoud/code/agenta_cloud/.venv/lib/python3.12/site-packages (from opentelemetry-exporter-otlp-proto-http<2.0.0,>=1.27.0->agenta) (1.36.0)\n",
            "Requirement already satisfied: protobuf<7.0,>=5.0 in /home/mahmoud/code/agenta_cloud/.venv/lib/python3.12/site-packages (from opentelemetry-proto==1.36.0->opentelemetry-exporter-otlp-proto-http<2.0.0,>=1.27.0->agenta) (6.32.0)\n",
            "Requirement already satisfied: opentelemetry-semantic-conventions==0.57b0 in /home/mahmoud/code/agenta_cloud/.venv/lib/python3.12/site-packages (from opentelemetry-sdk<2.0.0,>=1.27.0->agenta) (0.57b0)\n",
            "Requirement already satisfied: annotated-types>=0.6.0 in /home/mahmoud/code/agenta_cloud/.venv/lib/python3.12/site-packages (from pydantic>=2->agenta) (0.7.0)\n",
            "Requirement already satisfied: pydantic-core==2.33.2 in /home/mahmoud/code/agenta_cloud/.venv/lib/python3.12/site-packages (from pydantic>=2->agenta) (2.33.2)\n",
            "Requirement already satisfied: typing-inspection>=0.4.0 in /home/mahmoud/code/agenta_cloud/.venv/lib/python3.12/site-packages (from pydantic>=2->agenta) (0.4.1)\n",
            "Requirement already satisfied: charset_normalizer<4,>=2 in /home/mahmoud/code/agenta_cloud/.venv/lib/python3.12/site-packages (from requests->huggingface-hub<0.31.0->agenta) (3.4.3)\n",
            "Requirement already satisfied: idna<4,>=2.5 in /home/mahmoud/code/agenta_cloud/.venv/lib/python3.12/site-packages (from requests->huggingface-hub<0.31.0->agenta) (3.10)\n",
            "Requirement already satisfied: urllib3<3,>=1.21.1 in /home/mahmoud/code/agenta_cloud/.venv/lib/python3.12/site-packages (from requests->huggingface-hub<0.31.0->agenta) (2.5.0)\n",
            "Requirement already satisfied: certifi>=2017.4.17 in /home/mahmoud/code/agenta_cloud/.venv/lib/python3.12/site-packages (from requests->huggingface-hub<0.31.0->agenta) (2025.8.3)\n",
            "Requirement already satisfied: anyio<5,>=3.6.2 in /home/mahmoud/code/agenta_cloud/.venv/lib/python3.12/site-packages (from starlette<0.48.0,>=0.47.0->agenta) (4.10.0)\n",
            "Requirement already satisfied: sniffio>=1.1 in /home/mahmoud/code/agenta_cloud/.venv/lib/python3.12/site-packages (from anyio<5,>=3.6.2->starlette<0.48.0,>=0.47.0->agenta) (1.3.1)\n",
            "Requirement already satisfied: distro<2,>=1.7.0 in /home/mahmoud/code/agenta_cloud/.venv/lib/python3.12/site-packages (from openai) (1.9.0)\n",
            "Requirement already satisfied: jiter<1,>=0.4.0 in /home/mahmoud/code/agenta_cloud/.venv/lib/python3.12/site-packages (from openai) (0.10.0)\n",
            "Requirement already satisfied: httpcore==1.* in /home/mahmoud/code/agenta_cloud/.venv/lib/python3.12/site-packages (from httpx>=0.28.0->agenta) (1.0.9)\n",
            "Requirement already satisfied: aiohappyeyeballs>=2.5.0 in /home/mahmoud/code/agenta_cloud/.venv/lib/python3.12/site-packages (from aiohttp>=3.10->litellm==1.76.0->agenta) (2.6.1)\n",
            "Requirement already satisfied: aiosignal>=1.4.0 in /home/mahmoud/code/agenta_cloud/.venv/lib/python3.12/site-packages (from aiohttp>=3.10->litellm==1.76.0->agenta) (1.4.0)\n",
            "Requirement already satisfied: frozenlist>=1.1.1 in /home/mahmoud/code/agenta_cloud/.venv/lib/python3.12/site-packages (from aiohttp>=3.10->litellm==1.76.0->agenta) (1.7.0)\n",
            "Requirement already satisfied: multidict<7.0,>=4.5 in /home/mahmoud/code/agenta_cloud/.venv/lib/python3.12/site-packages (from aiohttp>=3.10->litellm==1.76.0->agenta) (6.6.4)\n",
            "Requirement already satisfied: propcache>=0.2.0 in /home/mahmoud/code/agenta_cloud/.venv/lib/python3.12/site-packages (from aiohttp>=3.10->litellm==1.76.0->agenta) (0.3.2)\n",
            "Requirement already satisfied: yarl<2.0,>=1.17.0 in /home/mahmoud/code/agenta_cloud/.venv/lib/python3.12/site-packages (from aiohttp>=3.10->litellm==1.76.0->agenta) (1.20.1)\n",
            "Requirement already satisfied: wrapt<2.0.0,>=1.0.0 in /home/mahmoud/code/agenta_cloud/.venv/lib/python3.12/site-packages (from opentelemetry-instrumentation>=0.56b0->agenta) (1.17.3)\n",
            "Requirement already satisfied: regex>=2022.1.18 in /home/mahmoud/code/agenta_cloud/.venv/lib/python3.12/site-packages (from tiktoken>=0.7.0->litellm==1.76.0->agenta) (2025.9.1)\n",
            "Downloading openai-1.107.1-py3-none-any.whl (945 kB)\n",
            "\u001b[2K   \u001b[90m━━━━━━━━━━━━━━━━━━━━━━━━━━━━━━━━━━━━━━━━\u001b[0m \u001b[32m945.2/945.2 kB\u001b[0m \u001b[31m22.6 MB/s\u001b[0m  \u001b[33m0:00:00\u001b[0m\n",
            "\u001b[?25hInstalling collected packages: openai\n",
            "  Attempting uninstall: openai\n",
            "    Found existing installation: openai 1.106.1\n",
            "    Uninstalling openai-1.106.1:\n",
            "      Successfully uninstalled openai-1.106.1\n",
            "Successfully installed openai-1.107.1\n",
            "Note: you may need to restart the kernel to use updated packages.\n"
          ]
        }
      ],
      "source": [
        "pip install -U agenta openai\n"
      ]
    },
    {
      "cell_type": "markdown",
      "metadata": {},
      "source": [
        "## Setup\n",
        "\n",
        "Before using the SDK, we need to initialize it using the `ag.init()` method, which takes the host (default `cloud.agenta.ai`) and the API key (not required for community editions):\n"
      ]
    },
    {
      "cell_type": "code",
      "execution_count": null,
      "metadata": {},
      "outputs": [],
      "source": [
        "import os\n",
        "os.environ[\"AGENTA_HOST\"] = \"http://cloud.agenta.ai/\"  # Default value, no need to set explicitly unless self-hosted\n",
        "os.environ[\"AGENTA_API_KEY\"] = \"\"\n",
        "os.environ[\"OPENAI_API_KEY\"] = \"\""
      ]
    },
    {
      "cell_type": "code",
      "execution_count": null,
      "metadata": {},
      "outputs": [
        {
          "name": "stdout",
          "output_type": "stream",
          "text": [
            "2025-09-11T15:56:10.922Z \u001b[38;5;70m[INFO.]\u001b[0m Agenta - SDK version: 0.51.6 \u001b[38;5;245m[agenta.sdk.agenta_init]\u001b[0m \n",
            "2025-09-11T15:56:10.923Z \u001b[38;5;70m[INFO.]\u001b[0m Agenta - Host: http://144.76.237.122 \u001b[38;5;245m[agenta.sdk.agenta_init]\u001b[0m \n",
            "2025-09-11T15:56:10.923Z \u001b[38;5;70m[INFO.]\u001b[0m Agenta - OLTP URL: http://144.76.237.122/api/otlp/v1/traces \u001b[38;5;245m[agenta.sdk.tracing.tracing]\u001b[0m \n"
          ]
        },
        {
          "name": "stderr",
          "output_type": "stream",
          "text": [
            "Overriding of current TracerProvider is not allowed\n"
          ]
        }
      ],
      "source": [
        "import os\n",
        "import agenta as ag\n",
        "from getpass import getpass\n",
        "\n",
        "# Initialize the SDK with your API key\n",
        "api_key = os.getenv(\"AGENTA_API_KEY\")\n",
        "if not api_key:\n",
        "    os.environ[\"AGENTA_API_KEY\"] = getpass(\"Enter your Agenta API key: \")\n",
        "\n",
        "openai_api_key = os.getenv(\"OPENAI_API_KEY\")\n",
        "if not openai_api_key:\n",
        "    os.environ[\"OPENAI_API_KEY\"] = getpass(\"Enter your OpenAI API key: \")\n",
        "\n",
        "# Initialize the SDK\n",
        "ag.init()\n"
      ]
    },
    {
      "cell_type": "markdown",
      "metadata": {},
      "source": [
        "## Creating a new prompt\n",
        "\n",
        "We're going to create a new completion prompt called `topic-explainer`.\n"
      ]
    },
    {
      "cell_type": "code",
      "execution_count": 3,
      "metadata": {},
      "outputs": [
        {
          "name": "stdout",
          "output_type": "stream",
          "text": [
            "Created application:\n",
            "app_id='0199397d-14f4-7bb2-a9c5-9a12934fb6c3' app_name='topic-explainer'\n"
          ]
        }
      ],
      "source": [
        "# Creates an empty application\n",
        "app = ag.AppManager.create(\n",
        "    app_slug=\"topic-explainer\",\n",
        "    template_key=\"SERVICE:completion\", # we define here the app type, choices are SERVICE:completion, SERVICE:chat, CUSTOM\n",
        ")\n",
        "\n",
        "print(\"Created application:\")\n",
        "print(app)\n"
      ]
    },
    {
      "cell_type": "markdown",
      "metadata": {},
      "source": [
        ":::warning\n",
        "The app created until now is empty. You cannot use it from the UI yet. You need to create a variant and commit changes to it to be able to use it (next section).\n",
        ":::\n"
      ]
    },
    {
      "cell_type": "markdown",
      "metadata": {},
      "source": [
        "## Creating a new variant\n",
        "\n",
        "Variants are similar to branches in **git**. Any change to the prompt must first be committed to a variant. Here, we'll create a new variant and make our first commit to it using the `VariantManager.create` method:\n"
      ]
    },
    {
      "cell_type": "code",
      "execution_count": 4,
      "metadata": {},
      "outputs": [
        {
          "name": "stdout",
          "output_type": "stream",
          "text": [
            "Created variant:\n",
            "{\n",
            "    \"app_id\": \"0199397d-14f4-7bb2-a9c5-9a12934fb6c3\",\n",
            "    \"app_slug\": \"topic-explainer\",\n",
            "    \"variant_id\": \"0199397d-1d46-74c3-bc3f-e63f2357c7dc\",\n",
            "    \"variant_slug\": \"new-variant\",\n",
            "    \"variant_version\": 1,\n",
            "    \"environment_id\": null,\n",
            "    \"environment_slug\": null,\n",
            "    \"environment_version\": null,\n",
            "    \"committed_at\": \"2025-09-11T15:55:24.842469+00:00\",\n",
            "    \"committed_by\": \"mahmoud@agenta.ai\",\n",
            "    \"committed_by_id\": \"0198eb1b-012a-7891-955e-15ef49443ece\",\n",
            "    \"deployed_at\": null,\n",
            "    \"deployed_by\": null,\n",
            "    \"deployed_by_id\": null,\n",
            "    \"params\": {\n",
            "        \"prompt\": {\n",
            "            \"messages\": [\n",
            "                {\n",
            "                    \"role\": \"system\",\n",
            "                    \"content\": \"You are an assistant that provides concise answers\",\n",
            "                    \"name\": null,\n",
            "                    \"tool_calls\": null,\n",
            "                    \"tool_call_id\": null\n",
            "                },\n",
            "                {\n",
            "                    \"role\": \"user\",\n",
            "                    \"content\": \"Explain {{topic}} in simple terms\",\n",
            "                    \"name\": null,\n",
            "                    \"tool_calls\": null,\n",
            "                    \"tool_call_id\": null\n",
            "                }\n",
            "            ],\n",
            "            \"system_prompt\": null,\n",
            "            \"user_prompt\": null,\n",
            "            \"template_format\": \"curly\",\n",
            "            \"input_keys\": null,\n",
            "            \"llm_config\": {\n",
            "                \"model\": \"gpt-3.5-turbo\",\n",
            "                \"temperature\": 0.6,\n",
            "                \"max_tokens\": 150,\n",
            "                \"top_p\": 1.0,\n",
            "                \"frequency_penalty\": 0.0,\n",
            "                \"presence_penalty\": 0.0,\n",
            "                \"response_format\": null,\n",
            "                \"stream\": null,\n",
            "                \"tools\": null,\n",
            "                \"tool_choice\": null\n",
            "            }\n",
            "        }\n",
            "    }\n",
            "}\n"
          ]
        }
      ],
      "source": [
        "from agenta.sdk.types import PromptTemplate, Message, ModelConfig\n",
        "from pydantic import BaseModel\n",
        "\n",
        "# We need to create a Pydantic Model with a `prompt` field of type `PromptTemplate`\n",
        "class Config(BaseModel):\n",
        "    prompt: PromptTemplate\n",
        "\n",
        "config = Config(\n",
        "    prompt=PromptTemplate(\n",
        "        messages=[\n",
        "            Message(role=\"system\", content=\"You are an assistant that provides concise answers\"),\n",
        "            Message(role=\"user\", content=\"Explain {{topic}} in simple terms\"),\n",
        "        ],\n",
        "        llm_config=ModelConfig(\n",
        "            model=\"gpt-3.5-turbo\",\n",
        "            max_tokens=150,\n",
        "            temperature=0.6,\n",
        "            top_p=1.0,\n",
        "            frequency_penalty=0.0,\n",
        "            presence_penalty=0.0,\n",
        "        ),\n",
        "        template_format=\"curly\"\n",
        "    )\n",
        ")\n",
        "\n",
        "# Create a new variant\n",
        "variant = ag.VariantManager.create(\n",
        "    parameters=config.model_dump(),\n",
        "    app_slug=\"topic-explainer\",\n",
        "    variant_slug=\"new-variant\"\n",
        ")\n",
        "\n",
        "print(\"Created variant:\")\n",
        "print(variant)\n"
      ]
    },
    {
      "cell_type": "markdown",
      "metadata": {},
      "source": [
        "This command will create a new variant and initialize it with the first commit containing the provided parameters.\n",
        "\n",
        "- **Parameters:**\n",
        "  - `app_slug`: The unique slug of your application.\n",
        "  - `variant_slug`: The unique slug of the new variant.\n",
        "  - `parameters`: A dictionary containing the initial configuration parameters.\n"
      ]
    },
    {
      "cell_type": "markdown",
      "metadata": {},
      "source": [
        "## Deploying changes to the production environment\n",
        "\n",
        "To deploy our commit to an environment, use the `DeploymentManager.deploy` method.\n"
      ]
    },
    {
      "cell_type": "code",
      "execution_count": 5,
      "metadata": {},
      "outputs": [
        {
          "name": "stdout",
          "output_type": "stream",
          "text": [
            "Deployed variant to environment:\n",
            "{\n",
            "    \"app_id\": \"0199397d-14f4-7bb2-a9c5-9a12934fb6c3\",\n",
            "    \"app_slug\": \"topic-explainer\",\n",
            "    \"variant_id\": \"0199397d-1d46-74c3-bc3f-e63f2357c7dc\",\n",
            "    \"variant_slug\": \"new-variant\",\n",
            "    \"variant_version\": 1,\n",
            "    \"environment_id\": \"0199397d-23fe-7621-8d30-29426339a777\",\n",
            "    \"environment_slug\": \"production\",\n",
            "    \"environment_version\": 1,\n",
            "    \"committed_at\": \"2025-09-11T15:55:24.842469+00:00\",\n",
            "    \"committed_by\": \"mahmoud@agenta.ai\",\n",
            "    \"committed_by_id\": \"0198eb1b-012a-7891-955e-15ef49443ece\",\n",
            "    \"deployed_at\": \"2025-09-11T15:55:26.590624+00:00\",\n",
            "    \"deployed_by\": \"mahmoud@agenta.ai\",\n",
            "    \"deployed_by_id\": \"0198eb1b-012a-7891-955e-15ef49443ece\"\n",
            "}\n"
          ]
        }
      ],
      "source": [
        "# Deploy the variant to the production environment\n",
        "deployment = ag.DeploymentManager.deploy(\n",
        "    app_slug=\"topic-explainer\",\n",
        "    variant_slug=\"new-variant\",\n",
        "    environment_slug=\"production\",\n",
        ")\n",
        "\n",
        "print(\"Deployed variant to environment:\")\n",
        "print(deployment)\n"
      ]
    },
    {
      "cell_type": "markdown",
      "metadata": {},
      "source": [
        "- **Parameters:**\n",
        "  - `environment_slug`: The slug of the environment (`development`, `staging`, or `production`).\n",
        "\n",
        "- **Notes:**\n",
        "  - Deploying a variant without specifying a `variant_version` deploys the latest version.\n"
      ]
    },
    {
      "cell_type": "markdown",
      "metadata": {},
      "source": [
        "## Committing a change to variant\n",
        "\n",
        "We're now going to commit changes to our variant. Note that this will not modify the version in deployment!\n",
        "\n",
        "To save changes to a variant (creating a new version), we are going to use the `VariantManager.commit` method with explicit parameters.\n"
      ]
    },
    {
      "cell_type": "code",
      "execution_count": 6,
      "metadata": {},
      "outputs": [
        {
          "name": "stdout",
          "output_type": "stream",
          "text": [
            "Committed new version of variant:\n",
            "{\n",
            "    \"app_id\": \"0199397d-14f4-7bb2-a9c5-9a12934fb6c3\",\n",
            "    \"app_slug\": \"topic-explainer\",\n",
            "    \"variant_id\": \"0199397d-2a70-7f20-ba60-2b810e512400\",\n",
            "    \"variant_slug\": \"new-variant\",\n",
            "    \"variant_version\": 2,\n",
            "    \"environment_id\": null,\n",
            "    \"environment_slug\": null,\n",
            "    \"environment_version\": null,\n",
            "    \"committed_at\": \"2025-09-11T15:55:24.842469+00:00\",\n",
            "    \"committed_by\": \"mahmoud@agenta.ai\",\n",
            "    \"committed_by_id\": \"0198eb1b-012a-7891-955e-15ef49443ece\",\n",
            "    \"deployed_at\": null,\n",
            "    \"deployed_by\": null,\n",
            "    \"deployed_by_id\": null,\n",
            "    \"params\": {\n",
            "        \"prompt\": {\n",
            "            \"messages\": [\n",
            "                {\n",
            "                    \"role\": \"system\",\n",
            "                    \"content\": \"You are an assistant that provides concise answers\",\n",
            "                    \"name\": null,\n",
            "                    \"tool_calls\": null,\n",
            "                    \"tool_call_id\": null\n",
            "                },\n",
            "                {\n",
            "                    \"role\": \"user\",\n",
            "                    \"content\": \"Use Paul Graham style to explain {{topic}} in simple terms.\",\n",
            "                    \"name\": null,\n",
            "                    \"tool_calls\": null,\n",
            "                    \"tool_call_id\": null\n",
            "                }\n",
            "            ],\n",
            "            \"system_prompt\": null,\n",
            "            \"user_prompt\": null,\n",
            "            \"template_format\": \"curly\",\n",
            "            \"input_keys\": null,\n",
            "            \"llm_config\": {\n",
            "                \"model\": \"gpt-3.5-turbo\",\n",
            "                \"temperature\": 0.9,\n",
            "                \"max_tokens\": 150,\n",
            "                \"top_p\": 1.0,\n",
            "                \"frequency_penalty\": 0.0,\n",
            "                \"presence_penalty\": 0.0,\n",
            "                \"response_format\": null,\n",
            "                \"stream\": null,\n",
            "                \"tools\": null,\n",
            "                \"tool_choice\": null\n",
            "            }\n",
            "        }\n",
            "    }\n",
            "}\n"
          ]
        }
      ],
      "source": [
        "config2 = Config(\n",
        "    prompt=PromptTemplate(\n",
        "        messages=[\n",
        "            Message(role=\"system\", content=\"You are an assistant that provides concise answers\"),\n",
        "            Message(role=\"user\", content=\"Use Paul Graham style to explain {{topic}} in simple terms.\"),\n",
        "        ],\n",
        "        llm_config=ModelConfig(\n",
        "            model=\"gpt-3.5-turbo\",\n",
        "            max_tokens=150,\n",
        "            temperature=0.9,\n",
        "            top_p=1.0,\n",
        "            frequency_penalty=0.0,\n",
        "            presence_penalty=0.0,\n",
        "        ),\n",
        "        template_format=\"curly\"\n",
        "    )\n",
        ")\n",
        "\n",
        "# Commit the new version\n",
        "variant = ag.VariantManager.commit(\n",
        "    parameters=config2.model_dump(),\n",
        "    app_slug=\"topic-explainer\",\n",
        "    variant_slug=\"new-variant\"\n",
        ")\n",
        "\n",
        "print(\"Committed new version of variant:\")\n",
        "print(variant)\n"
      ]
    },
    {
      "cell_type": "markdown",
      "metadata": {},
      "source": [
        ":::info Immutability\n",
        "Each commit creates a new version of the variant. Versions are immutable once created.\n",
        ":::\n"
      ]
    },
    {
      "cell_type": "markdown",
      "metadata": {},
      "source": [
        "## Fetching the prompt in production\n",
        "\n",
        "Now we'll fetch and use the prompt that's in production. Keep in mind that the production environment still references the first version of our variant. If we want it to reflect the latest changes, we'll need to deploy it again.\n"
      ]
    },
    {
      "cell_type": "code",
      "execution_count": 7,
      "metadata": {},
      "outputs": [
        {
          "name": "stdout",
          "output_type": "stream",
          "text": [
            "Fetched configuration from production:\n",
            "{'prompt': {'messages': [{'role': 'system', 'content': 'You are an assistant that provides concise answers', 'name': None, 'tool_calls': None, 'tool_call_id': None}, {'role': 'user', 'content': 'Explain {{topic}} in simple terms', 'name': None, 'tool_calls': None, 'tool_call_id': None}], 'system_prompt': None, 'user_prompt': None, 'template_format': 'curly', 'input_keys': None, 'llm_config': {'model': 'gpt-3.5-turbo', 'temperature': 0.6, 'max_tokens': 150, 'top_p': 1.0, 'frequency_penalty': 0.0, 'presence_penalty': 0.0, 'response_format': None, 'stream': None, 'tools': None, 'tool_choice': None}}}\n"
          ]
        }
      ],
      "source": [
        "# Fetch configuration from the production environment\n",
        "config = ag.ConfigManager.get_from_registry(\n",
        "    app_slug=\"topic-explainer\",\n",
        "    environment_slug=\"production\"\n",
        ")\n",
        "\n",
        "print(\"Fetched configuration from production:\")\n",
        "print(config)\n"
      ]
    },
    {
      "cell_type": "code",
      "execution_count": 10,
      "metadata": {},
      "outputs": [
        {
          "name": "stdout",
          "output_type": "stream",
          "text": [
            "Response for topic 'artificial intelligence':\n",
            "Artificial intelligence (AI) is the ability of a computer or machine to perform tasks that typically require human intelligence, such as learning, problem-solving, and decision-making. It involves creating algorithms and systems that can process information, recognize patterns, and make predictions without explicit programming.\n"
          ]
        }
      ],
      "source": [
        "# Using the configuration with OpenAI client\n",
        "from openai import OpenAI\n",
        "\n",
        "# Format the prompt with your topic\n",
        "topic = \"artificial intelligence\"\n",
        "prompt = PromptTemplate(**config[\"prompt\"]).format(topic=topic)\n",
        "client = OpenAI()\n",
        "\n",
        "response = client.chat.completions.create(\n",
        "    **prompt.to_openai_kwargs()\n",
        ")\n",
        "\n",
        "print(f\"Response for topic '{topic}':\")\n",
        "print(response.choices[0].message.content)\n"
      ]
    },
    {
      "cell_type": "markdown",
      "metadata": {},
      "source": [
        "## Next Steps\n",
        "\n",
        "Now that you've learned how to manage configurations using the SDK, you can:\n",
        "\n",
        "- Read the guide to explore more advanced features of the SDK\n",
        "- Read how to reference prompts in your traces\n",
        "- Read how to manage configuration for your workflows (chain of prompts, RAG..)\n",
        "\n",
        "## Summary\n",
        "\n",
        "In this tutorial, we've covered the complete workflow for managing prompts with the Agenta SDK:\n",
        "\n",
        "1. ✅ Created a new application\n",
        "2. ✅ Created a variant with initial configuration\n",
        "3. ✅ Deployed the variant to production environment\n",
        "4. ✅ Committed changes to create a new version\n",
        "5. ✅ Fetched configuration from production and used it with OpenAI\n",
        "\n",
        "This demonstrates the Git-like workflow that Agenta uses for prompt versioning, allowing you to manage different variants and deploy specific versions to different environments.\n"
      ]
    }
  ],
  "metadata": {
    "kernelspec": {
      "display_name": ".venv (3.12.3)",
      "language": "python",
      "name": "python3"
    },
    "language_info": {
      "codemirror_mode": {
        "name": "ipython",
        "version": 3
      },
      "file_extension": ".py",
      "mimetype": "text/x-python",
      "name": "python",
      "nbconvert_exporter": "python",
      "pygments_lexer": "ipython3",
      "version": "3.12.3"
    }
  },
  "nbformat": 4,
  "nbformat_minor": 2
}
