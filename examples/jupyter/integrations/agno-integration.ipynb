{
 "cells": [
  {
   "cell_type": "markdown",
   "metadata": {},
   "source": [
    "# Integrate Agenta with Agno\n",
    "\n",
    "This notebook demonstrates how to connect **Agenta** with **Agno** for comprehensive observability and debugging of your AI agent applications.\n",
    "\n",
    "> **What is Agenta?** [Agenta](https://agenta.ai) is an open-source LLMOps platform designed to streamline the deployment, management, and scaling of large language models. It offers comprehensive observability, testing, and deployment capabilities for AI applications.\n",
    "\n",
    "> **What is Agno?** [Agno](https://github.com/agno-agi/agno) is a Python framework for building AI agents with tools, structured outputs, and efficient workflows. It provides a simple yet powerful interface for creating intelligent agents that can interact with external systems and perform complex tasks."
   ]
  },
  {
   "cell_type": "markdown",
   "metadata": {},
   "source": [
    "## Implementation Guide\n",
    "\n",
    "Follow this tutorial to set up Agno with Agenta's observability platform for real-time application insights."
   ]
  },
  {
   "cell_type": "markdown",
   "metadata": {},
   "source": [
    "### Step 1: Install Required Dependencies\n",
    "\n",
    "Install the necessary Python packages for this integration:"
   ]
  },
  {
   "cell_type": "code",
   "execution_count": null,
   "metadata": {},
   "outputs": [],
   "source": [
    "!pip install agenta openinference-instrumentation-agno agno"
   ]
  },
  {
   "cell_type": "markdown",
   "metadata": {},
   "source": [
    "**Package Descriptions:**\n",
    "- `agenta`: Core SDK for Agenta's prompt engineering and observability platform\n",
    "- `agno`: Framework for building AI agents with tools and structured workflows\n",
    "- `openinference-instrumentation-agno`: Automatic instrumentation library for Agno operations"
   ]
  },
  {
   "cell_type": "markdown",
   "metadata": {},
   "source": [
    "### Step 2: Setup and Configuration\n",
    "\n",
    "Configure your environment and initialize the Agenta SDK:"
   ]
  },
  {
   "cell_type": "code",
   "execution_count": null,
   "metadata": {},
   "outputs": [],
   "source": [
    "import os\n",
    "import re\n",
    "from itertools import permutations\n",
    "import agenta as ag\n",
    "from agno.agent import Agent\n",
    "from agno.models.openai import OpenAIChat\n",
    "from openinference.instrumentation.agno import AgnoInstrumentor\n",
    "\n",
    "\n",
    "# Load configuration from environment\n",
    "os.environ[\"AGENTA_API_KEY\"] = \"your_agenta_api_key\"\n",
    "os.environ[\"AGENTA_HOST\"] = (\n",
    "    \"https://cloud.agenta.ai\"  # Optional, defaults to the Agenta cloud API\n",
    ")\n",
    "\n",
    "# Start Agenta SDK\n",
    "ag.init()"
   ]
  },
  {
   "cell_type": "markdown",
   "metadata": {},
   "source": [
    "**What does `ag.init()` do?**\n",
    "This function initializes the Agenta SDK and sets up the necessary configuration for observability. It establishes connection to the Agenta platform, configures tracing and logging settings, and prepares the instrumentation context for your application."
   ]
  },
  {
   "cell_type": "markdown",
   "metadata": {},
   "source": [
    "### Step 3: Enable Agno Monitoring\n",
    "\n",
    "Initialize the OpenInference Agno instrumentation to automatically capture agent operations:"
   ]
  },
  {
   "cell_type": "code",
   "execution_count": null,
   "metadata": {},
   "outputs": [],
   "source": [
    "# Enable Agno instrumentation\n",
    "AgnoInstrumentor().instrument()"
   ]
  },
  {
   "cell_type": "markdown",
   "metadata": {},
   "source": [
    "### Step 4: Build Your Instrumented Agno Application\n",
    "\n",
    "Here's a complete example showcasing a logistics dispatch agent with Agenta instrumentation:\n",
    "\n",
    "#### Setup Logistics Data"
   ]
  },
  {
   "cell_type": "code",
   "execution_count": null,
   "metadata": {},
   "outputs": [],
   "source": [
    "# Simulated logistics data\n",
    "tracking_data = {\n",
    "    \"TRK10001\": \"In transit at Berlin Friedrichshain Distribution Center\",\n",
    "    \"TRK10002\": \"Delivered on 2025-06-14 at 18:32 in Charlottenburg\",\n",
    "    \"TRK10003\": \"Out for delivery — last scanned near Tempelhofer Feld\",\n",
    "    \"TRK10004\": \"Held at customs near Berlin Brandenburg Airport (BER)\",\n",
    "    \"TRK10005\": \"Awaiting pickup at Berlin Hauptbahnhof Parcel Station\",\n",
    "}\n",
    "\n",
    "distance_matrix = {\n",
    "    \"Warehouse\": {\"A\": 10, \"B\": 15, \"C\": 20},\n",
    "    \"A\": {\"Warehouse\": 10, \"B\": 12, \"C\": 5},\n",
    "    \"B\": {\"Warehouse\": 15, \"A\": 12, \"C\": 8},\n",
    "    \"C\": {\"Warehouse\": 20, \"A\": 5, \"B\": 8},\n",
    "}\n",
    "\n",
    "driver_load = {\"Alice\": 2, \"Bob\": 3, \"Charlie\": 1}"
   ]
  },
  {
   "cell_type": "markdown",
   "metadata": {},
   "source": [
    "#### Create Tools for the Agent"
   ]
  },
  {
   "cell_type": "code",
   "execution_count": null,
   "metadata": {},
   "outputs": [],
   "source": [
    "# Tool: TrackingTool\n",
    "class TrackingTool:\n",
    "    def __init__(self):\n",
    "        self.name = \"TrackingTool\"\n",
    "        self.description = \"Provides shipment status updates given a tracking ID.\"\n",
    "\n",
    "    def run(self, query: str) -> str:\n",
    "        match = re.search(r\"\\bTRK\\d+\\b\", query.upper())\n",
    "        if not match:\n",
    "            return \"Please provide a valid tracking ID.\"\n",
    "        tid = match.group(0)\n",
    "        status = tracking_data.get(tid)\n",
    "        return f\"Status for {tid}: {status}\" if status else f\"No information for {tid}.\""
   ]
  },
  {
   "cell_type": "code",
   "execution_count": null,
   "metadata": {},
   "outputs": [],
   "source": [
    "# Tool: RouteTool\n",
    "class RouteTool:\n",
    "    def __init__(self):\n",
    "        self.name = \"RouteTool\"\n",
    "        self.description = \"Computes the best delivery route given a start and destinations.\"\n",
    "\n",
    "    def run(self, query: str) -> str:\n",
    "        m = re.search(r\"from\\s+([\\w\\s]+)\\s+to\\s+(.+)\", query, re.IGNORECASE)\n",
    "        if not m:\n",
    "            return \"Specify route as 'from <Origin> to <Dest1>, <Dest2>, ...'.\"\n",
    "        origin = m.group(1).strip()\n",
    "        dests = [d.strip() for d in re.split(r\",| and \", m.group(2)) if d.strip()]\n",
    "        \n",
    "        if origin not in distance_matrix:\n",
    "            return f\"Unknown origin: {origin}.\"\n",
    "\n",
    "        for loc in dests:\n",
    "            if loc not in distance_matrix:\n",
    "                return f\"Unknown destination: {loc}.\"\n",
    "        \n",
    "        best_distance = float(\"inf\")\n",
    "        best_order = None\n",
    "        for perm in permutations(dests):\n",
    "            total = 0\n",
    "            cur = origin\n",
    "\n",
    "            for nxt in perm:\n",
    "                total += distance_matrix[cur][nxt]\n",
    "                cur = nxt\n",
    "\n",
    "            if total < best_distance:\n",
    "                best_distance = total\n",
    "                best_order = perm\n",
    "        \n",
    "        route_plan = \" → \".join([origin] + list(best_order)) if best_order else origin\n",
    "        return f\"Optimal route: {route_plan} (Total distance: {best_distance} km)\""
   ]
  },
  {
   "cell_type": "code",
   "execution_count": null,
   "metadata": {},
   "outputs": [],
   "source": [
    "# Tool: WorkloadBalancerTool\n",
    "class WorkloadBalancerTool:\n",
    "    def __init__(self):\n",
    "        self.name = \"WorkloadBalancerTool\"\n",
    "        self.description = \"Assigns delivery locations to the least busy driver.\"\n",
    "        self.drivers = driver_load.copy()\n",
    "\n",
    "    def run(self, query: str) -> str:\n",
    "        m = re.search(r\"deliver(?:y|ies)? to (.+)\", query, re.IGNORECASE)\n",
    "        if not m:\n",
    "            return \"Please specify delivery locations like 'deliver to A, B, C'.\"\n",
    "\n",
    "        locations = [\n",
    "            loc.strip() for loc in re.split(r\",| and \", m.group(1)) if loc.strip()\n",
    "        ]\n",
    "        assignments = []\n",
    "        for loc in locations:\n",
    "            least_loaded = min(self.drivers, key=lambda d: self.drivers[d])\n",
    "            assignments.append(f\"{loc} → {least_loaded}\")\n",
    "            self.drivers[least_loaded] += 1\n",
    "\n",
    "        return \"Delivery assignments:\\n\" + \"\\n\".join(assignments)"
   ]
  },
  {
   "cell_type": "markdown",
   "metadata": {},
   "source": [
    "#### Create and Configure the Agent"
   ]
  },
  {
   "cell_type": "code",
   "execution_count": null,
   "metadata": {},
   "outputs": [],
   "source": [
    "# Create the dispatch agent\n",
    "agent = Agent(\n",
    "    model=OpenAIChat(id=\"gpt-4o\"),\n",
    "    description=\"You are a smart dispatch assistant for a logistics team.\",\n",
    "    instructions=[\n",
    "        \"Use TrackingTool for shipment queries.\",\n",
    "        \"Use RouteTool for route optimization.\",\n",
    "        \"Use WorkloadBalancerTool to assign deliveries to drivers.\",\n",
    "        \"Always return concise, formatted answers with relevant detail.\",\n",
    "    ],\n",
    "    tools=[TrackingTool(), RouteTool(), WorkloadBalancerTool()],\n",
    "    show_tool_calls=False,\n",
    ")"
   ]
  },
  {
   "cell_type": "markdown",
   "metadata": {},
   "source": [
    "#### Create Instrumented Handler Function"
   ]
  },
  {
   "cell_type": "code",
   "execution_count": null,
   "metadata": {},
   "outputs": [],
   "source": [
    "@ag.instrument()\n",
    "def handle_dispatch_request(query: str):\n",
    "    result = agent.run(query)\n",
    "    return result.content"
   ]
  },
  {
   "cell_type": "markdown",
   "metadata": {},
   "source": [
    "#### Test the Logistics Agent"
   ]
  },
  {
   "cell_type": "code",
   "execution_count": null,
   "metadata": {},
   "outputs": [],
   "source": [
    "# Test individual functionalities\n",
    "print(\"Testing Shipment Tracking:\")\n",
    "tracking_response = handle_dispatch_request(\"Where is shipment TRK10001?\")\n",
    "print(tracking_response)"
   ]
  },
  {
   "cell_type": "code",
   "execution_count": null,
   "metadata": {},
   "outputs": [],
   "source": [
    "print(\"\\nTesting Route Optimization:\")\n",
    "route_response = handle_dispatch_request(\"Find the best route from Warehouse to A, B and C\")\n",
    "print(route_response)"
   ]
  },
  {
   "cell_type": "code",
   "execution_count": null,
   "metadata": {},
   "outputs": [],
   "source": [
    "print(\"\\nTesting Workload Assignment:\")\n",
    "workload_response = handle_dispatch_request(\"Assign deliveries to A, B, and C\")\n",
    "print(workload_response)"
   ]
  },
  {
   "cell_type": "code",
   "execution_count": null,
   "metadata": {},
   "outputs": [],
   "source": [
    "print(\"\\nTesting Combined Multi-Tool Request:\")\n",
    "combined_response = handle_dispatch_request(\n",
    "    \"Where is shipment TRK10001? Also, find the best route from Warehouse to A, B and C, \"\n",
    "    \"and assign deliveries to the least busy drivers.\"\n",
    ")\n",
    "print(combined_response)"
   ]
  },
  {
   "cell_type": "markdown",
   "metadata": {},
   "source": [
    "### Step 5: Understanding the @ag.instrument() Decorator\n",
    "\n",
    "The `@ag.instrument()` decorator automatically captures all input and output data from your function, enabling comprehensive observability without manual instrumentation.\n",
    "\n",
    "**Span Type Configuration:**\n",
    "Use the `spankind` parameter to categorize operations in Agenta WebUI. Available options:\n",
    "\n",
    "- `agent` - Autonomous agent behaviors\n",
    "- `chain` - Sequential processing workflows\n",
    "- `workflow` - Complete application processes (default)\n",
    "- `tool` - Utility and helper functions\n",
    "- `embedding` - Vector embedding operations\n",
    "- `query` - Search and retrieval tasks\n",
    "- `completion` - Text generation operations\n",
    "- `chat` - Conversational interfaces\n",
    "- `rerank` - Result ordering operations\n",
    "\n",
    "**Standard Behavior:**\n",
    "By default, when `spankind` is not specified, the operation becomes a root-level span, categorized as a `workflow` in Agenta."
   ]
  },
  {
   "cell_type": "code",
   "execution_count": null,
   "metadata": {},
   "outputs": [],
   "source": [
    "# Example with custom span classification:\n",
    "@ag.instrument(spankind=\"agent\")\n",
    "def logistics_agent_handler(query: str):\n",
    "    # Agent-specific logic implementation\n",
    "    pass"
   ]
  },
  {
   "cell_type": "markdown",
   "metadata": {},
   "source": [
    "### Step 6: View Traces in Agenta\n",
    "\n",
    "After running your application, access detailed execution traces through Agenta's dashboard. The observability data includes:\n",
    "\n",
    "- Complete agent workflow execution timeline\n",
    "- Agno agent initialization and tool configuration\n",
    "- Tool execution sequences and decision-making processes\n",
    "- LLM interactions and response generation\n",
    "- Tool call chains and data flow between tools\n",
    "- Performance metrics and timing analysis\n",
    "\n",
    "<img \n",
    "    style=\"display: block; margin: 20px; text-align: center\"\n",
    "    src=\"./images/agenta-openinference-agno-trace.png\"\n",
    "    width=\"90%\"\n",
    "    alt=\"Agenta dashboard showing Agno application trace with detailed execution steps\">\n",
    "\n",
    "The observability interface provides insights for:\n",
    "- Debug complex agent interactions and tool usage patterns\n",
    "- Monitor tool execution performance and decision logic\n",
    "- Analyze LLM reasoning and response quality\n",
    "- Track multi-tool workflows and coordination"
   ]
  },
  {
   "cell_type": "markdown",
   "metadata": {},
   "source": [
    "## Advanced Usage\n",
    "\n",
    "### Custom Span Configuration\n",
    "\n",
    "Customize instrumentation for different application components:"
   ]
  },
  {
   "cell_type": "code",
   "execution_count": null,
   "metadata": {},
   "outputs": [],
   "source": [
    "@ag.instrument(spankind=\"workflow\")\n",
    "def logistics_pipeline(request: str):\n",
    "    return handle_dispatch_request(request)\n",
    "\n",
    "\n",
    "@ag.instrument(spankind=\"tool\")\n",
    "def external_system_integration(data: dict):\n",
    "    # External system call logic\n",
    "    pass\n",
    "\n",
    "\n",
    "@ag.instrument(spankind=\"agent\")\n",
    "def specialized_logistics_agent(context: dict):\n",
    "    # Specialized agent implementation\n",
    "    return context"
   ]
  },
  {
   "cell_type": "markdown",
   "metadata": {},
   "source": [
    "### Real-world Examples\n",
    "\n",
    "#### Customer Service Agent System"
   ]
  },
  {
   "cell_type": "code",
   "execution_count": null,
   "metadata": {},
   "outputs": [],
   "source": [
    "# Customer service data\n",
    "customer_db = {\n",
    "    \"CUST001\": {\"name\": \"John Doe\", \"tier\": \"Premium\", \"issues\": []},\n",
    "    \"CUST002\": {\"name\": \"Jane Smith\", \"tier\": \"Standard\", \"issues\": [\"billing\"]},\n",
    "}\n",
    "\n",
    "ticket_system = {\n",
    "    \"TKT001\": {\"customer\": \"CUST001\", \"status\": \"open\", \"priority\": \"high\"},\n",
    "    \"TKT002\": {\"customer\": \"CUST002\", \"status\": \"resolved\", \"priority\": \"medium\"},\n",
    "}\n",
    "\n",
    "class CustomerLookupTool:\n",
    "    def __init__(self):\n",
    "        self.name = \"CustomerLookupTool\"\n",
    "        self.description = \"Retrieves customer information by ID.\"\n",
    "    \n",
    "    def run(self, query: str) -> str:\n",
    "        match = re.search(r\"\\bCUST\\d+\\b\", query.upper())\n",
    "        if not match:\n",
    "            return \"Please provide a valid customer ID.\"\n",
    "\n",
    "        cust_id = match.group(0)\n",
    "        customer = customer_db.get(cust_id)\n",
    "        if customer:\n",
    "            return f\"Customer {cust_id}: {customer['name']}, Tier: {customer['tier']}\"\n",
    "        return f\"No customer found for {cust_id}.\"\n",
    "\n",
    "class TicketManagementTool:\n",
    "    def __init__(self):\n",
    "        self.name = \"TicketManagementTool\"\n",
    "        self.description = \"Manages support tickets and escalations.\"\n",
    "    \n",
    "    def run(self, query: str) -> str:\n",
    "        if \"create ticket\" in query.lower():\n",
    "            return \"New ticket TKT003 created successfully.\"\n",
    "\n",
    "        elif \"escalate\" in query.lower():\n",
    "            return \"Ticket escalated to senior support team.\"\n",
    "\n",
    "        match = re.search(r\"\\bTKT\\d+\\b\", query.upper())\n",
    "        if match:\n",
    "            ticket_id = match.group(0)\n",
    "            ticket = ticket_system.get(ticket_id)\n",
    "            if ticket:\n",
    "                return f\"Ticket {ticket_id}: Status: {ticket['status']}, Priority: {ticket['priority']}\"\n",
    "\n",
    "        return \"Please specify a valid ticket action or ID.\"\n",
    "\n",
    "\n",
    "customer_service_agent = Agent(\n",
    "    model=OpenAIChat(id=\"gpt-4o\"),\n",
    "    description=\"You are a customer service agent helping with inquiries and ticket management.\",\n",
    "    instructions=[\n",
    "        \"Use CustomerLookupTool to find customer information.\",\n",
    "        \"Use TicketManagementTool to manage support tickets.\",\n",
    "        \"Always be helpful and professional in your responses.\",\n",
    "    ],\n",
    "    tools=[CustomerLookupTool(), TicketManagementTool()],\n",
    "    show_tool_calls=False,\n",
    ")\n",
    "\n",
    "\n",
    "@ag.instrument(spankind=\"workflow\")\n",
    "def handle_customer_request(query: str):\n",
    "    result = customer_service_agent.run(query)\n",
    "    return result.content"
   ]
  },
  {
   "cell_type": "markdown",
   "metadata": {},
   "source": [
    "#### Test Customer Service Agent"
   ]
  },
  {
   "cell_type": "code",
   "execution_count": null,
   "metadata": {},
   "outputs": [],
   "source": [
    "# Test customer service functionality\n",
    "customer_response = handle_customer_request(\"Look up customer CUST001 and check ticket TKT001\")\n",
    "print(\"Customer Service Response:\", customer_response)"
   ]
  },
  {
   "cell_type": "markdown",
   "metadata": {},
   "source": [
    "#### E-commerce Order Management System"
   ]
  },
  {
   "cell_type": "code",
   "execution_count": null,
   "metadata": {},
   "outputs": [],
   "source": [
    "# E-commerce data\n",
    "inventory = {\n",
    "    \"PROD001\": {\"name\": \"Laptop\", \"stock\": 5, \"price\": 999.99},\n",
    "    \"PROD002\": {\"name\": \"Mouse\", \"stock\": 25, \"price\": 29.99},\n",
    "    \"PROD003\": {\"name\": \"Keyboard\", \"stock\": 0, \"price\": 79.99},\n",
    "}\n",
    "\n",
    "orders = {\n",
    "    \"ORD001\": {\"customer\": \"CUST001\", \"items\": [\"PROD001\"], \"status\": \"shipped\"},\n",
    "    \"ORD002\": {\"customer\": \"CUST002\", \"items\": [\"PROD002\"], \"status\": \"processing\"},\n",
    "}\n",
    "\n",
    "class InventoryTool:\n",
    "    def __init__(self):\n",
    "        self.name = \"InventoryTool\"\n",
    "        self.description = \"Checks product availability and stock levels.\"\n",
    "    \n",
    "    def run(self, query: str) -> str:\n",
    "        match = re.search(r\"\\bPROD\\d+\\b\", query.upper())\n",
    "        if not match:\n",
    "            return \"Please provide a valid product ID.\"\n",
    "\n",
    "        prod_id = match.group(0)\n",
    "        product = inventory.get(prod_id)\n",
    "        if product:\n",
    "            status = \"In Stock\" if product[\"stock\"] > 0 else \"Out of Stock\"\n",
    "            return f\"Product {prod_id}: {product['name']}, Stock: {product['stock']}, Price: ${product['price']}, Status: {status}\"\n",
    "\n",
    "        return f\"Product {prod_id} not found.\"\n",
    "\n",
    "\n",
    "class OrderManagementTool:\n",
    "    def __init__(self):\n",
    "        self.name = \"OrderManagementTool\"\n",
    "        self.description = \"Manages order status and updates.\"\n",
    "    \n",
    "    def run(self, query: str) -> str:\n",
    "        match = re.search(r\"\\bORD\\d+\\b\", query.upper())\n",
    "        if not match:\n",
    "            return \"Please provide a valid order ID.\"\n",
    "\n",
    "        order_id = match.group(0)\n",
    "        order = orders.get(order_id)\n",
    "        if order:\n",
    "            return f\"Order {order_id}: Customer: {order['customer']}, Items: {order['items']}, Status: {order['status']}\"\n",
    "        return f\"Order {order_id} not found.\"\n",
    "\n",
    "\n",
    "ecommerce_agent = Agent(\n",
    "    model=OpenAIChat(id=\"gpt-4o\"),\n",
    "    description=\"You are an e-commerce assistant helping with inventory and order management.\",\n",
    "    instructions=[\n",
    "        \"Use InventoryTool to check product availability.\",\n",
    "        \"Use OrderManagementTool to track orders.\",\n",
    "        \"Provide clear and helpful information about products and orders.\",\n",
    "    ],\n",
    "    tools=[InventoryTool(), OrderManagementTool()],\n",
    "    show_tool_calls=False,\n",
    ")\n",
    "\n",
    "\n",
    "@ag.instrument(spankind=\"agent\")\n",
    "def handle_ecommerce_request(query: str):\n",
    "    result = ecommerce_agent.run(query)\n",
    "    return result.content"
   ]
  },
  {
   "cell_type": "markdown",
   "metadata": {},
   "source": [
    "#### Test E-commerce Agent"
   ]
  },
  {
   "cell_type": "code",
   "execution_count": null,
   "metadata": {},
   "outputs": [],
   "source": [
    "# Test e-commerce functionality\n",
    "ecommerce_response = handle_ecommerce_request(\"Check availability of PROD001 and status of order ORD001\")\n",
    "print(\"E-commerce Response:\", ecommerce_response)"
   ]
  },
  {
   "cell_type": "markdown",
   "metadata": {},
   "source": [
    "#### Financial Trading Assistant"
   ]
  },
  {
   "cell_type": "code",
   "execution_count": null,
   "metadata": {},
   "outputs": [],
   "source": [
    "# Financial data\n",
    "portfolio = {\n",
    "    \"AAPL\": {\"shares\": 100, \"avg_price\": 150.00, \"current_price\": 175.50},\n",
    "    \"GOOGL\": {\"shares\": 50, \"avg_price\": 2800.00, \"current_price\": 2950.00},\n",
    "    \"TSLA\": {\"shares\": 25, \"avg_price\": 800.00, \"current_price\": 725.00},\n",
    "}\n",
    "\n",
    "market_data = {\n",
    "    \"AAPL\": {\"price\": 175.50, \"change\": \"+2.5%\", \"volume\": \"45M\"},\n",
    "    \"GOOGL\": {\"price\": 2950.00, \"change\": \"+1.8%\", \"volume\": \"12M\"},\n",
    "    \"TSLA\": {\"price\": 725.00, \"change\": \"-3.2%\", \"volume\": \"28M\"},\n",
    "}\n",
    "\n",
    "class PortfolioTool:\n",
    "    def __init__(self):\n",
    "        self.name = \"PortfolioTool\"\n",
    "        self.description = \"Provides portfolio information and performance analysis.\"\n",
    "    \n",
    "    def run(self, query: str) -> str:\n",
    "        if \"portfolio\" in query.lower():\n",
    "            total_value = sum(stock[\"shares\"] * stock[\"current_price\"] for stock in portfolio.values())\n",
    "            return f\"Portfolio Total Value: ${total_value:,.2f}\"\n",
    "        \n",
    "        match = re.search(r\"\\b[A-Z]{2,5}\\b\", query.upper())\n",
    "        if match:\n",
    "            symbol = match.group(0)\n",
    "            if symbol in portfolio:\n",
    "                stock = portfolio[symbol]\n",
    "                current_value = stock[\"shares\"] * stock[\"current_price\"]\n",
    "                return f\"{symbol}: {stock['shares']} shares @ ${stock['current_price']}, Value: ${current_value:,.2f}\"\n",
    "\n",
    "        return \"Please specify a valid stock symbol or ask about your portfolio.\"\n",
    "\n",
    "\n",
    "class MarketDataTool:\n",
    "    def __init__(self):\n",
    "        self.name = \"MarketDataTool\"\n",
    "        self.description = \"Provides real-time market data and stock information.\"\n",
    "    \n",
    "    def run(self, query: str) -> str:\n",
    "        match = re.search(r\"\\b[A-Z]{2,5}\\b\", query.upper())\n",
    "        if not match:\n",
    "            return \"Please provide a valid stock symbol.\"\n",
    "\n",
    "        symbol = match.group(0)\n",
    "        if symbol in market_data:\n",
    "            data = market_data[symbol]\n",
    "            return f\"{symbol}: ${data['price']}, Change: {data['change']}, Volume: {data['volume']}\"\n",
    "        return f\"No market data available for {symbol}.\"\n",
    "\n",
    "\n",
    "trading_agent = Agent(\n",
    "    model=OpenAIChat(id=\"gpt-4o\"),\n",
    "    description=\"You are a financial trading assistant providing portfolio and market analysis.\",\n",
    "    instructions=[\n",
    "        \"Use PortfolioTool to analyze portfolio holdings.\",\n",
    "        \"Use MarketDataTool to get current market information.\",\n",
    "        \"Provide clear financial insights and recommendations.\",\n",
    "    ],\n",
    "    tools=[PortfolioTool(), MarketDataTool()],\n",
    "    show_tool_calls=False,\n",
    ")\n",
    "\n",
    "\n",
    "@ag.instrument(spankind=\"workflow\")\n",
    "def handle_trading_request(query: str):\n",
    "    result = trading_agent.run(query)\n",
    "    return result.content"
   ]
  },
  {
   "cell_type": "markdown",
   "metadata": {},
   "source": [
    "#### Test Trading Agent"
   ]
  },
  {
   "cell_type": "code",
   "execution_count": null,
   "metadata": {},
   "outputs": [],
   "source": [
    "# Test trading functionality\n",
    "trading_response = handle_trading_request(\"Show me my AAPL holdings and current market data for GOOGL\")\n",
    "print(\"Trading Response:\", trading_response)"
   ]
  },
  {
   "cell_type": "markdown",
   "metadata": {},
   "source": [
    "### Additional Testing Examples"
   ]
  },
  {
   "cell_type": "code",
   "execution_count": null,
   "metadata": {},
   "outputs": [],
   "source": [
    "# Test portfolio overview\n",
    "portfolio_overview = handle_trading_request(\"What is my total portfolio value?\")\n",
    "print(\"Portfolio Overview:\", portfolio_overview)"
   ]
  },
  {
   "cell_type": "code",
   "execution_count": null,
   "metadata": {},
   "outputs": [],
   "source": [
    "# Test customer service ticket creation\n",
    "ticket_creation = handle_customer_request(\"Create a new ticket for billing issues\")\n",
    "print(\"Ticket Creation:\", ticket_creation)"
   ]
  },
  {
   "cell_type": "code",
   "execution_count": null,
   "metadata": {},
   "outputs": [],
   "source": [
    "# Test inventory check for out of stock item\n",
    "inventory_check = handle_ecommerce_request(\"Check if PROD003 is available for purchase\")\n",
    "print(\"Inventory Check:\", inventory_check)"
   ]
  },
  {
   "cell_type": "markdown",
   "metadata": {},
   "source": [
    "## Next Steps\n",
    "\n",
    "For more detailed information about Agenta's observability features and advanced configuration options, visit the [Agenta Observability SDK Documentation](/observability/observability-sdk)."
   ]
  }
 ],
 "metadata": {
  "kernelspec": {
   "display_name": "Python 3",
   "language": "python",
   "name": "python3"
  },
  "language_info": {
   "codemirror_mode": {
    "name": "ipython",
    "version": 3
   },
   "file_extension": ".py",
   "mimetype": "text/x-python",
   "name": "python",
   "nbconvert_exporter": "python",
   "pygments_lexer": "ipython3",
   "version": "3.8.0"
  }
 },
 "nbformat": 4,
 "nbformat_minor": 4
}
