{
 "cells": [
  {
   "cell_type": "markdown",
   "metadata": {},
   "source": [
    "# Integrate Agenta with OpenAI Agents SDK\n",
    "\n",
    "This notebook demonstrates how to connect **Agenta** with **OpenAI Agents** for comprehensive observability and debugging of your multi-agent applications.\n",
    "\n",
    "> **What is Agenta?** [Agenta](https://agenta.ai) is an open-source LLMOps platform designed to streamline the deployment, management, and scaling of large language models. It offers comprehensive observability, testing, and deployment capabilities for AI applications.\n",
    "\n",
    "> **What is OpenAI Agents?** The [OpenAI Agents](https://github.com/openai/openai-agents-python) SDK is a framework for building AI agents that can interact with tools, run asynchronous operations, and orchestrate complex multi-agent workflows. It provides a structured approach to creating intelligent agents with tool calling capabilities."
   ]
  },
  {
   "cell_type": "markdown",
   "metadata": {},
   "source": [
    "## Implementation Guide\n",
    "\n",
    "Follow this tutorial to set up OpenAI Agents SDK with Agenta's observability platform for real-time application insights."
   ]
  },
  {
   "cell_type": "markdown",
   "metadata": {},
   "source": [
    "### Step 1: Install Required Dependencies\n",
    "\n",
    "Install the necessary Python packages for this integration:"
   ]
  },
  {
   "cell_type": "code",
   "execution_count": null,
   "metadata": {},
   "outputs": [],
   "source": [
    "!pip install agenta openinference-instrumentation-openai-agents openai-agents"
   ]
  },
  {
   "cell_type": "markdown",
   "metadata": {},
   "source": [
    "**Package Descriptions:**\n",
    "- `agenta`: Core SDK for Agenta's prompt engineering and observability platform\n",
    "- `openai-agents`: Framework for building multi-agent systems with tool calling capabilities\n",
    "- `openinference-instrumentation-openai-agents`: Automatic instrumentation library for OpenAI Agents operations"
   ]
  },
  {
   "cell_type": "markdown",
   "metadata": {},
   "source": [
    "### Step 2: Setup and Configuration\n",
    "\n",
    "Configure your environment and initialize the Agenta SDK:"
   ]
  },
  {
   "cell_type": "code",
   "execution_count": null,
   "metadata": {},
   "outputs": [],
   "source": [
    "import os\n",
    "import asyncio\n",
    "import agenta as ag\n",
    "from agents import Agent, Runner\n",
    "from openinference.instrumentation.openai_agents import OpenAIAgentsInstrumentor\n",
    "\n",
    "\n",
    "# Load configuration from environment\n",
    "os.environ[\"AGENTA_API_KEY\"] = \"your_agenta_api_key\"\n",
    "os.environ[\n",
    "    \"AGENTA_HOST\"\n",
    "] = \"https://cloud.agenta.ai\"  # Optional, defaults to the Agenta cloud API\n",
    "os.environ[\"OPENAI_API_KEY\"] = \"your_openai_api_key\"  # Required for OpenAI Agents SDK\n",
    "\n",
    "\n",
    "# Start Agenta SDK\n",
    "ag.init()"
   ]
  },
  {
   "cell_type": "markdown",
   "metadata": {},
   "source": [
    "**What does `ag.init()` do?**\n",
    "This function initializes the Agenta SDK and sets up the necessary configuration for observability. It establishes connection to the Agenta platform, configures tracing and logging settings, and prepares the instrumentation context for your application."
   ]
  },
  {
   "cell_type": "markdown",
   "metadata": {},
   "source": [
    "### Step 3: Enable OpenAI Agents Monitoring\n",
    "\n",
    "Initialize the OpenInference OpenAI Agents instrumentation to automatically capture agent operations:"
   ]
  },
  {
   "cell_type": "code",
   "execution_count": null,
   "metadata": {},
   "outputs": [],
   "source": [
    "# Enable OpenAI Agents instrumentation\n",
    "OpenAIAgentsInstrumentor().instrument()"
   ]
  },
  {
   "cell_type": "markdown",
   "metadata": {},
   "source": [
    "### Step 4: Build Your Instrumented Multi-Agent Application\n",
    "\n",
    "Here's a complete example showcasing a multi-agent translation system with Agenta instrumentation:"
   ]
  },
  {
   "cell_type": "code",
   "execution_count": null,
   "metadata": {},
   "outputs": [],
   "source": [
    "# Define specialized translation agents\n",
    "spanish_agent = Agent(\n",
    "    name=\"Spanish agent\",\n",
    "    instructions=\"You translate the user's message to Spanish\",\n",
    ")\n",
    "\n",
    "french_agent = Agent(\n",
    "    name=\"French agent\",\n",
    "    instructions=\"You translate the user's message to French\",\n",
    ")\n",
    "\n",
    "german_agent = Agent(\n",
    "    name=\"German agent\",\n",
    "    instructions=\"You translate the user's message to German\",\n",
    ")"
   ]
  },
  {
   "cell_type": "code",
   "execution_count": null,
   "metadata": {},
   "outputs": [],
   "source": [
    "# Create orchestrator agent with tool integration\n",
    "orchestrator_agent = Agent(\n",
    "    name=\"orchestrator_agent\",\n",
    "    instructions=(\n",
    "        \"You are a translation agent. You use the tools given to you to translate.\"\n",
    "        \"If asked for multiple translations, you call the relevant tools.\"\n",
    "    ),\n",
    "    tools=[\n",
    "        spanish_agent.as_tool(\n",
    "            tool_name=\"translate_to_spanish\",\n",
    "            tool_description=\"Translate the user's message to Spanish\",\n",
    "        ),\n",
    "        french_agent.as_tool(\n",
    "            tool_name=\"translate_to_french\",\n",
    "            tool_description=\"Translate the user's message to French\",\n",
    "        ),\n",
    "        german_agent.as_tool(\n",
    "            tool_name=\"translate_to_german\",\n",
    "            tool_description=\"Translate the user's message to German\",\n",
    "        ),\n",
    "    ],\n",
    ")"
   ]
  },
  {
   "cell_type": "code",
   "execution_count": null,
   "metadata": {},
   "outputs": [],
   "source": [
    "@ag.instrument()\n",
    "async def duolingo(query: str):\n",
    "    result = await Runner.run(orchestrator_agent, input=query)\n",
    "    return result.final_output"
   ]
  },
  {
   "cell_type": "markdown",
   "metadata": {},
   "source": [
    "### Step 5: Run the Example"
   ]
  },
  {
   "cell_type": "code",
   "execution_count": null,
   "metadata": {},
   "outputs": [],
   "source": [
    "# Example usage\n",
    "async def main():\n",
    "    response = await duolingo(\"What is 'What's your name' in French?\")\n",
    "    print(\"Response:\", response)\n",
    "\n",
    "\n",
    "# Run the example\n",
    "await main()"
   ]
  },
  {
   "cell_type": "markdown",
   "metadata": {},
   "source": [
    "### Step 6: Understanding the @ag.instrument() Decorator\n",
    "\n",
    "The `@ag.instrument()` decorator automatically captures all input and output data from your function, enabling comprehensive observability without manual instrumentation.\n",
    "\n",
    "**Span Type Configuration:**\n",
    "Use the `spankind` parameter to categorize operations in Agenta WebUI. Available options:\n",
    "\n",
    "- `agent` - Autonomous agent behaviors\n",
    "- `chain` - Sequential processing workflows\n",
    "- `workflow` - Complete application processes (default)\n",
    "- `tool` - Utility and helper functions\n",
    "- `embedding` - Vector embedding operations\n",
    "- `query` - Search and retrieval tasks\n",
    "- `completion` - Text generation operations\n",
    "- `chat` - Conversational interfaces\n",
    "- `rerank` - Result ordering operations\n",
    "\n",
    "**Standard Behavior:**\n",
    "By default, when `spankind` is not specified, the operation becomes a root-level span, categorized as a `workflow` in Agenta."
   ]
  },
  {
   "cell_type": "code",
   "execution_count": null,
   "metadata": {},
   "outputs": [],
   "source": [
    "# Example with custom span classification:\n",
    "@ag.instrument(spankind=\"agent\")\n",
    "def specialized_agent_function(input_data: str):\n",
    "    # Agent-specific logic implementation\n",
    "    pass"
   ]
  },
  {
   "cell_type": "markdown",
   "metadata": {},
   "source": [
    "### Step 7: View Traces in Agenta\n",
    "\n",
    "After running your application, access detailed execution traces through Agenta's dashboard. The observability data includes:\n",
    "\n",
    "- Complete multi-agent workflow execution timeline\n",
    "- Agent initialization and configuration steps\n",
    "- Tool calling and inter-agent communication\n",
    "- Orchestrator decision-making processes\n",
    "- Individual agent reasoning and response generation\n",
    "- Performance metrics and timing analysis\n",
    "\n",
    "\n",
    "<img \n",
    "    style=\"display: block; margin: 20px; text-align: center\"\n",
    "    src=\"./images/agenta-openinference-openai-agents-trace.png\"\n",
    "    width=\"90%\"\n",
    "    alt=\"Agenta dashboard showing OpenAI Agents SDK application trace with detailed execution steps\">\n",
    "\n",
    "\n",
    "The observability interface provides insights for:\n",
    "- Debug complex multi-agent interactions and tool calling\n",
    "- Monitor agent performance and decision-making patterns\n",
    "- Analyze orchestration effectiveness and workflow optimization\n",
    "- Track application behavior trends and identify bottlenecks"
   ]
  },
  {
   "cell_type": "markdown",
   "metadata": {},
   "source": [
    "## Advanced Usage\n",
    "\n",
    "### Custom Span Configuration\n",
    "\n",
    "Customize instrumentation for different application components:"
   ]
  },
  {
   "cell_type": "code",
   "execution_count": null,
   "metadata": {},
   "outputs": [],
   "source": [
    "@ag.instrument(spankind=\"workflow\")\n",
    "def multi_agent_pipeline(query: str):\n",
    "    return asyncio.run(duolingo(query))\n",
    "\n",
    "\n",
    "@ag.instrument(spankind=\"agent\")\n",
    "def custom_agent_handler(agent_input: str):\n",
    "    # Custom agent logic\n",
    "    pass\n",
    "\n",
    "\n",
    "@ag.instrument(spankind=\"tool\")\n",
    "def external_tool_integration(tool_input: str):\n",
    "    # External tool integration\n",
    "    return tool_input"
   ]
  },
  {
   "cell_type": "markdown",
   "metadata": {},
   "source": [
    "### Real-world Examples\n",
    "\n",
    "#### Customer Support Agent System"
   ]
  },
  {
   "cell_type": "code",
   "execution_count": null,
   "metadata": {},
   "outputs": [],
   "source": [
    "support_agent = Agent(\n",
    "    name=\"Support Agent\",\n",
    "    instructions=\"You help customers with their inquiries and route complex issues to specialists\",\n",
    ")\n",
    "\n",
    "billing_agent = Agent(\n",
    "    name=\"Billing Agent\",\n",
    "    instructions=\"You handle billing-related questions and payment issues\",\n",
    ")\n",
    "\n",
    "technical_agent = Agent(\n",
    "    name=\"Technical Agent\",\n",
    "    instructions=\"You provide technical support and troubleshooting assistance\",\n",
    ")\n",
    "\n",
    "\n",
    "@ag.instrument(spankind=\"workflow\")\n",
    "async def customer_support_system(customer_query: str):\n",
    "    orchestrator = Agent(\n",
    "        name=\"Support Orchestrator\",\n",
    "        instructions=\"Route customer queries to the appropriate specialist agent\",\n",
    "        tools=[\n",
    "            support_agent.as_tool(\n",
    "                \"general_support\", \"Handle general customer inquiries\"\n",
    "            ),\n",
    "            billing_agent.as_tool(\n",
    "                \"billing_support\", \"Handle billing and payment issues\"\n",
    "            ),\n",
    "            technical_agent.as_tool(\n",
    "                \"technical_support\", \"Provide technical assistance\"\n",
    "            ),\n",
    "        ],\n",
    "    )\n",
    "\n",
    "    result = await Runner.run(orchestrator, input=customer_query)\n",
    "    return result.final_output"
   ]
  },
  {
   "cell_type": "markdown",
   "metadata": {},
   "source": [
    "#### Research Analysis Team"
   ]
  },
  {
   "cell_type": "code",
   "execution_count": null,
   "metadata": {},
   "outputs": [],
   "source": [
    "@ag.instrument(spankind=\"chain\")\n",
    "async def research_analysis_pipeline(research_topic: str):\n",
    "    data_collector = Agent(\n",
    "        name=\"Data Collector\",\n",
    "        instructions=\"Gather relevant information and data on the given topic\",\n",
    "    )\n",
    "\n",
    "    analyst = Agent(\n",
    "        name=\"Research Analyst\",\n",
    "        instructions=\"Analyze collected data and provide insights\",\n",
    "    )\n",
    "\n",
    "    reporter = Agent(\n",
    "        name=\"Report Writer\",\n",
    "        instructions=\"Create comprehensive reports based on analysis\",\n",
    "        tools=[\n",
    "            data_collector.as_tool(\"collect_data\", \"Gather relevant research data\"),\n",
    "            analyst.as_tool(\"analyze_data\", \"Perform data analysis and insights\"),\n",
    "        ],\n",
    "    )\n",
    "\n",
    "    result = await Runner.run(reporter, input=research_topic)\n",
    "    return result.final_output"
   ]
  },
  {
   "cell_type": "markdown",
   "metadata": {},
   "source": [
    "#### Content Creation Workflow"
   ]
  },
  {
   "cell_type": "code",
   "execution_count": null,
   "metadata": {},
   "outputs": [],
   "source": [
    "@ag.instrument(spankind=\"workflow\")\n",
    "async def content_creation_system(content_brief: str):\n",
    "    writer = Agent(\n",
    "        name=\"Content Writer\",\n",
    "        instructions=\"Create engaging content based on the brief\",\n",
    "    )\n",
    "\n",
    "    editor = Agent(\n",
    "        name=\"Content Editor\",\n",
    "        instructions=\"Review and improve content quality and style\",\n",
    "    )\n",
    "\n",
    "    seo_specialist = Agent(\n",
    "        name=\"SEO Specialist\",\n",
    "        instructions=\"Optimize content for search engines\",\n",
    "    )\n",
    "\n",
    "    content_manager = Agent(\n",
    "        name=\"Content Manager\",\n",
    "        instructions=\"Coordinate the content creation process and ensure quality\",\n",
    "        tools=[\n",
    "            writer.as_tool(\"write_content\", \"Generate initial content draft\"),\n",
    "            editor.as_tool(\"edit_content\", \"Review and edit content\"),\n",
    "            seo_specialist.as_tool(\"optimize_seo\", \"Optimize content for SEO\"),\n",
    "        ],\n",
    "    )\n",
    "\n",
    "    result = await Runner.run(content_manager, input=content_brief)\n",
    "    return result.final_output"
   ]
  },
  {
   "cell_type": "markdown",
   "metadata": {},
   "source": [
    "#### Test the Advanced Examples"
   ]
  },
  {
   "cell_type": "code",
   "execution_count": null,
   "metadata": {},
   "outputs": [],
   "source": [
    "# Test customer support system\n",
    "support_response = await customer_support_system(\n",
    "    \"I have a billing question about my subscription\"\n",
    ")\n",
    "print(\"Support Response:\", support_response)"
   ]
  },
  {
   "cell_type": "code",
   "execution_count": null,
   "metadata": {},
   "outputs": [],
   "source": [
    "# Test research analysis pipeline\n",
    "research_response = await research_analysis_pipeline(\"Impact of AI on healthcare\")\n",
    "print(\"Research Response:\", research_response)"
   ]
  },
  {
   "cell_type": "code",
   "execution_count": null,
   "metadata": {},
   "outputs": [],
   "source": [
    "# Test content creation system\n",
    "content_response = await content_creation_system(\n",
    "    \"Write a blog post about sustainable energy solutions\"\n",
    ")\n",
    "print(\"Content Response:\", content_response)"
   ]
  },
  {
   "cell_type": "markdown",
   "metadata": {},
   "source": [
    "## Next Steps\n",
    "\n",
    "For more detailed information about Agenta's observability features and advanced configuration options, visit the [Agenta Observability SDK Documentation](/observability/observability-sdk)."
   ]
  }
 ],
 "metadata": {
  "kernelspec": {
   "display_name": "Python 3",
   "language": "python",
   "name": "python3"
  },
  "language_info": {
   "codemirror_mode": {
    "name": "ipython",
    "version": 3
   },
   "file_extension": ".py",
   "mimetype": "text/x-python",
   "name": "python",
   "nbconvert_exporter": "python",
   "pygments_lexer": "ipython3",
   "version": "3.8.0"
  }
 },
 "nbformat": 4,
 "nbformat_minor": 4
}
